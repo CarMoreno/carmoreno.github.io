{
 "cells": [
  {
   "cell_type": "markdown",
   "id": "e5cbf420",
   "metadata": {
    "id": "e5cbf420"
   },
   "source": [
    "---\n",
    "layout: post\n",
    "title: Data storytelling, visualizando datos sobre reservas de hoteles.\n",
    "date: 2025-05-11 10:49:19\n",
    "author: Carlos Andrés Moreno\n",
    "summary: En este artículo vamos a realizar un storytelling de un conjunto de datos de reservas de hoteles\n",
    "categories: Data\n",
    "thumbnail: plot\n",
    "tags:\n",
    "  - Data\n",
    "  - Python\n",
    "  - Ploty\n",
    "---"
   ]
  },
  {
   "cell_type": "markdown",
   "id": "0b772b3e",
   "metadata": {
    "id": "0b772b3e"
   },
   "source": [
    "### Treemap"
   ]
  },
  {
   "metadata": {},
   "cell_type": "code",
   "outputs": [],
   "execution_count": null,
   "source": [
    "import polars as pl\n",
    "import pandas as pd\n",
    "import numpy as np\n",
    "import plotly.express as px\n",
    "import plotly.graph_objects as go"
   ],
   "id": "ccb371fa61727755"
  },
  {
   "metadata": {},
   "cell_type": "code",
   "outputs": [],
   "execution_count": null,
   "source": [
    "# Example from: https://plotly.com/python/plotly-express/\n",
    "\n",
    "df = px.data.gapminder().query(\"year == 2007\")\n",
    "fig = px.treemap(\n",
    "    df,\n",
    "    path=[px.Constant(\"world\"), \"continent\", \"country\"],\n",
    "    values=\"pop\",\n",
    "    color=\"lifeExp\",\n",
    "    hover_data=[\"iso_alpha\"],\n",
    ")\n",
    "fig.show()"
   ],
   "id": "968b7548ecbfecc9"
  }
 ],
 "metadata": {
  "kernelspec": {
   "display_name": "Python 3 (ipykernel)",
   "language": "python",
   "name": "python3"
  },
  "language_info": {
   "codemirror_mode": {
    "name": "ipython",
    "version": 3
   },
   "file_extension": ".py",
   "mimetype": "text/x-python",
   "name": "python",
   "nbconvert_exporter": "python",
   "pygments_lexer": "ipython3",
   "version": "3.10.12"
  },
  "colab": {
   "provenance": []
  }
 },
 "nbformat": 4,
 "nbformat_minor": 5
}
