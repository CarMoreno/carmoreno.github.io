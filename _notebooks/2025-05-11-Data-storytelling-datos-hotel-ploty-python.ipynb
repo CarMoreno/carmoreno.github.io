{
 "cells": [
  {
   "cell_type": "markdown",
   "id": "e5cbf420",
   "metadata": {
    "id": "e5cbf420"
   },
   "source": [
    "---\n",
    "layout: post\n",
    "title: Data storytelling, visualizando datos sobre reservas de hoteles.\n",
    "date: 2025-05-11 10:49:19\n",
    "author: Carlos Andrés Moreno\n",
    "summary: En este artículo vamos a realizar un storytelling de un conjunto de datos de reservas de hoteles\n",
    "categories: Data\n",
    "thumbnail: plot\n",
    "tags:\n",
    "  - Data\n",
    "  - Python\n",
    "  - Ploty\n",
    "---"
   ]
  },
  {
   "cell_type": "markdown",
   "source": [
    "# Introducción"
   ],
   "metadata": {
    "id": "aoZKebYBHCID"
   },
   "id": "aoZKebYBHCID"
  },
  {
   "cell_type": "markdown",
   "source": [
    "Como parte de la Maestría en Cienicas de Datos que estoy estudiando en la [Universidad Oberta de Catalunya](https://uoc.edu), me fue asignada una actividad que consiste en crear un *Data Storytelling* de un conjunto de datos sobre reservaciones de hoteles en Lisboa, Portugal. Creo que es una excelente oportunidad de mostrar un poco lo que he aprendido este semestre en la asignatura de Visualización de Datos, es por eso que he decidido crear el *storytelling* en un nuevo artículo del blog.\n"
   ],
   "metadata": {
    "id": "uKCWeJz-PNMt"
   },
   "id": "uKCWeJz-PNMt"
  },
  {
   "cell_type": "markdown",
   "source": [
    "# Sobre los datos"
   ],
   "metadata": {
    "id": "6zvL80bGQoMV"
   },
   "id": "6zvL80bGQoMV"
  },
  {
   "cell_type": "markdown",
   "source": [
    "El conjunto de datos que vamos a usar a lo largo del *storytelling* ha sido descrito completamente en el artículo titulado [Hotel booking demand datasets ](https://www.sciencedirect.com/science/article/pii/S2352340918315191). Como se ha mencionado anteriormente, los datos tratan sobre reservaciones de hoteles en Lisboa, Portugal. Particularmente dos hoteles, uno ubicado en la zona urbana de la ciudad y otro hotel tipo resort.\n",
    "\n",
    "Cada fila del conjunto de datos es una reservación hecha por un cliente para alguno de los dos hoteles. Además, tenemos información sobre el número de niños, bebés y adultos dentro de la reserva; més, semana y día en el cual se hizo la reserva; país de residencia de cliente, si la reserva se canceló o no, el tipo de comida que se incluyó para los clientes, entre otra información de interés."
   ],
   "metadata": {
    "id": "BWkxBHzBQqJ2"
   },
   "id": "BWkxBHzBQqJ2"
  },
  {
   "cell_type": "markdown",
   "source": [
    "# Herrmientas usadas para la visualización"
   ],
   "metadata": {
    "id": "LFgBn5osHcTb"
   },
   "id": "LFgBn5osHcTb"
  },
  {
   "cell_type": "markdown",
   "source": [
    "Todas las visualizaciones que vas a ver han sido creadas usando la librería [Ploty](https://plotly.com/python/). El blog está hosteado en Github pages y utiliza Jekyll para generar todo el sitio (si quieres saber un poco más a cerca de cómo está hecho el sitio, puedes hacer click [acá](https://carmoreno.com.co/tutoriales/2015/08/13/Como-hice-el-blog/)).\n",
    "\n",
    "Me gustaría tambien mencionar a [Jérome Eertmans](https://github.com/jeertmans), el artículo de su blog titulado [\"Embedding Ploty in a Jekyll Post\"](https://eertmans.be/posts/plotly-example/) fue de gran ayuda para poder integrar Ploty y Jekyll sin morir en el intento (a veces una buena googleada es mejor que escribirle a Gemini o ChatGPT)."
   ],
   "metadata": {
    "id": "mPKgB01aG-AE"
   },
   "id": "mPKgB01aG-AE"
  },
  {
   "cell_type": "markdown",
   "source": [
    "# Ahora sí, manos a la obra."
   ],
   "metadata": {
    "id": "nDT-9FP5IdF7"
   },
   "id": "nDT-9FP5IdF7"
  },
  {
   "cell_type": "markdown",
   "source": "Lisboa es uno de los destinos turísticos más visitados todos los años en Europa, tiene un clima excelente, buena comida, hermosos paisajes y playas mediterraneas. En 2021, esta ciudad ocupó [el tercer lugar](https://elordenmundial.com/mapas-y-graficos/ciudades-mas-visitadas-europa/) entre las 15 ciudades más visitadas de Europa, solo por detrás de París y Barcelona. Que sea tan popular no significa que todo sea color de rosa; muchas veces implica sitios de interés repletos de gente, pocos lugares para parquear tu vehículo y pagar precios más altos por temporada. ¿No sería mejor ir a Lisboa en una temporada un poco mas relajada?, podriamos usar los datos de hoteles para saber cuando hay mayor cantidad de turistas, entre más reservaciones sin cancelación existan, significa mayor cantidad de personas yendo a estos hoteles. Miremos qué nos dicen los datos.",
   "metadata": {
    "id": "czFgkKaNI4uy"
   },
   "id": "czFgkKaNI4uy"
  },
  {
   "metadata": {
    "ExecuteTime": {
     "end_time": "2025-05-14T21:12:10.875534Z",
     "start_time": "2025-05-14T21:12:10.826108Z"
    }
   },
   "cell_type": "code",
   "source": [
    "import polars as pl\n",
    "import pandas as pd\n",
    "import numpy as np\n",
    "import plotly.express as px\n",
    "import plotly.graph_objects as go\n",
    "reservas = pl.read_csv(\"/Users/carlosm/Documents/MDS/4th Semester/Viusalizacion/PEC3/hotel_bookings.csv\", null_values=[\"NA\"])\n",
    "reservas"
   ],
   "id": "183871a290cf9977",
   "outputs": [
    {
     "data": {
      "text/plain": [
       "shape: (119_390, 32)\n",
       "┌───────────┬───────────┬───────────┬───────────┬───┬───────────┬───────────┬───────────┬──────────┐\n",
       "│ hotel     ┆ is_cancel ┆ lead_time ┆ arrival_d ┆ … ┆ required_ ┆ total_of_ ┆ reservati ┆ reservat │\n",
       "│ ---       ┆ ed        ┆ ---       ┆ ate_year  ┆   ┆ car_parki ┆ special_r ┆ on_status ┆ ion_stat │\n",
       "│ str       ┆ ---       ┆ i64       ┆ ---       ┆   ┆ ng_spaces ┆ equests   ┆ ---       ┆ us_date  │\n",
       "│           ┆ i64       ┆           ┆ i64       ┆   ┆ ---       ┆ ---       ┆ str       ┆ ---      │\n",
       "│           ┆           ┆           ┆           ┆   ┆ i64       ┆ i64       ┆           ┆ str      │\n",
       "╞═══════════╪═══════════╪═══════════╪═══════════╪═══╪═══════════╪═══════════╪═══════════╪══════════╡\n",
       "│ Resort    ┆ 0         ┆ 342       ┆ 2015      ┆ … ┆ 0         ┆ 0         ┆ Check-Out ┆ 2015-07- │\n",
       "│ Hotel     ┆           ┆           ┆           ┆   ┆           ┆           ┆           ┆ 01       │\n",
       "│ Resort    ┆ 0         ┆ 737       ┆ 2015      ┆ … ┆ 0         ┆ 0         ┆ Check-Out ┆ 2015-07- │\n",
       "│ Hotel     ┆           ┆           ┆           ┆   ┆           ┆           ┆           ┆ 01       │\n",
       "│ Resort    ┆ 0         ┆ 7         ┆ 2015      ┆ … ┆ 0         ┆ 0         ┆ Check-Out ┆ 2015-07- │\n",
       "│ Hotel     ┆           ┆           ┆           ┆   ┆           ┆           ┆           ┆ 02       │\n",
       "│ Resort    ┆ 0         ┆ 13        ┆ 2015      ┆ … ┆ 0         ┆ 0         ┆ Check-Out ┆ 2015-07- │\n",
       "│ Hotel     ┆           ┆           ┆           ┆   ┆           ┆           ┆           ┆ 02       │\n",
       "│ Resort    ┆ 0         ┆ 14        ┆ 2015      ┆ … ┆ 0         ┆ 1         ┆ Check-Out ┆ 2015-07- │\n",
       "│ Hotel     ┆           ┆           ┆           ┆   ┆           ┆           ┆           ┆ 03       │\n",
       "│ …         ┆ …         ┆ …         ┆ …         ┆ … ┆ …         ┆ …         ┆ …         ┆ …        │\n",
       "│ City      ┆ 0         ┆ 23        ┆ 2017      ┆ … ┆ 0         ┆ 0         ┆ Check-Out ┆ 2017-09- │\n",
       "│ Hotel     ┆           ┆           ┆           ┆   ┆           ┆           ┆           ┆ 06       │\n",
       "│ City      ┆ 0         ┆ 102       ┆ 2017      ┆ … ┆ 0         ┆ 2         ┆ Check-Out ┆ 2017-09- │\n",
       "│ Hotel     ┆           ┆           ┆           ┆   ┆           ┆           ┆           ┆ 07       │\n",
       "│ City      ┆ 0         ┆ 34        ┆ 2017      ┆ … ┆ 0         ┆ 4         ┆ Check-Out ┆ 2017-09- │\n",
       "│ Hotel     ┆           ┆           ┆           ┆   ┆           ┆           ┆           ┆ 07       │\n",
       "│ City      ┆ 0         ┆ 109       ┆ 2017      ┆ … ┆ 0         ┆ 0         ┆ Check-Out ┆ 2017-09- │\n",
       "│ Hotel     ┆           ┆           ┆           ┆   ┆           ┆           ┆           ┆ 07       │\n",
       "│ City      ┆ 0         ┆ 205       ┆ 2017      ┆ … ┆ 0         ┆ 2         ┆ Check-Out ┆ 2017-09- │\n",
       "│ Hotel     ┆           ┆           ┆           ┆   ┆           ┆           ┆           ┆ 07       │\n",
       "└───────────┴───────────┴───────────┴───────────┴───┴───────────┴───────────┴───────────┴──────────┘"
      ],
      "text/html": [
       "<div><style>\n",
       ".dataframe > thead > tr,\n",
       ".dataframe > tbody > tr {\n",
       "  text-align: right;\n",
       "  white-space: pre-wrap;\n",
       "}\n",
       "</style>\n",
       "<small>shape: (119_390, 32)</small><table border=\"1\" class=\"dataframe\"><thead><tr><th>hotel</th><th>is_canceled</th><th>lead_time</th><th>arrival_date_year</th><th>arrival_date_month</th><th>arrival_date_week_number</th><th>arrival_date_day_of_month</th><th>stays_in_weekend_nights</th><th>stays_in_week_nights</th><th>adults</th><th>children</th><th>babies</th><th>meal</th><th>country</th><th>market_segment</th><th>distribution_channel</th><th>is_repeated_guest</th><th>previous_cancellations</th><th>previous_bookings_not_canceled</th><th>reserved_room_type</th><th>assigned_room_type</th><th>booking_changes</th><th>deposit_type</th><th>agent</th><th>company</th><th>days_in_waiting_list</th><th>customer_type</th><th>adr</th><th>required_car_parking_spaces</th><th>total_of_special_requests</th><th>reservation_status</th><th>reservation_status_date</th></tr><tr><td>str</td><td>i64</td><td>i64</td><td>i64</td><td>str</td><td>i64</td><td>i64</td><td>i64</td><td>i64</td><td>i64</td><td>i64</td><td>i64</td><td>str</td><td>str</td><td>str</td><td>str</td><td>i64</td><td>i64</td><td>i64</td><td>str</td><td>str</td><td>i64</td><td>str</td><td>str</td><td>str</td><td>i64</td><td>str</td><td>f64</td><td>i64</td><td>i64</td><td>str</td><td>str</td></tr></thead><tbody><tr><td>&quot;Resort Hotel&quot;</td><td>0</td><td>342</td><td>2015</td><td>&quot;July&quot;</td><td>27</td><td>1</td><td>0</td><td>0</td><td>2</td><td>0</td><td>0</td><td>&quot;BB&quot;</td><td>&quot;PRT&quot;</td><td>&quot;Direct&quot;</td><td>&quot;Direct&quot;</td><td>0</td><td>0</td><td>0</td><td>&quot;C&quot;</td><td>&quot;C&quot;</td><td>3</td><td>&quot;No Deposit&quot;</td><td>&quot;NULL&quot;</td><td>&quot;NULL&quot;</td><td>0</td><td>&quot;Transient&quot;</td><td>0.0</td><td>0</td><td>0</td><td>&quot;Check-Out&quot;</td><td>&quot;2015-07-01&quot;</td></tr><tr><td>&quot;Resort Hotel&quot;</td><td>0</td><td>737</td><td>2015</td><td>&quot;July&quot;</td><td>27</td><td>1</td><td>0</td><td>0</td><td>2</td><td>0</td><td>0</td><td>&quot;BB&quot;</td><td>&quot;PRT&quot;</td><td>&quot;Direct&quot;</td><td>&quot;Direct&quot;</td><td>0</td><td>0</td><td>0</td><td>&quot;C&quot;</td><td>&quot;C&quot;</td><td>4</td><td>&quot;No Deposit&quot;</td><td>&quot;NULL&quot;</td><td>&quot;NULL&quot;</td><td>0</td><td>&quot;Transient&quot;</td><td>0.0</td><td>0</td><td>0</td><td>&quot;Check-Out&quot;</td><td>&quot;2015-07-01&quot;</td></tr><tr><td>&quot;Resort Hotel&quot;</td><td>0</td><td>7</td><td>2015</td><td>&quot;July&quot;</td><td>27</td><td>1</td><td>0</td><td>1</td><td>1</td><td>0</td><td>0</td><td>&quot;BB&quot;</td><td>&quot;GBR&quot;</td><td>&quot;Direct&quot;</td><td>&quot;Direct&quot;</td><td>0</td><td>0</td><td>0</td><td>&quot;A&quot;</td><td>&quot;C&quot;</td><td>0</td><td>&quot;No Deposit&quot;</td><td>&quot;NULL&quot;</td><td>&quot;NULL&quot;</td><td>0</td><td>&quot;Transient&quot;</td><td>75.0</td><td>0</td><td>0</td><td>&quot;Check-Out&quot;</td><td>&quot;2015-07-02&quot;</td></tr><tr><td>&quot;Resort Hotel&quot;</td><td>0</td><td>13</td><td>2015</td><td>&quot;July&quot;</td><td>27</td><td>1</td><td>0</td><td>1</td><td>1</td><td>0</td><td>0</td><td>&quot;BB&quot;</td><td>&quot;GBR&quot;</td><td>&quot;Corporate&quot;</td><td>&quot;Corporate&quot;</td><td>0</td><td>0</td><td>0</td><td>&quot;A&quot;</td><td>&quot;A&quot;</td><td>0</td><td>&quot;No Deposit&quot;</td><td>&quot;304&quot;</td><td>&quot;NULL&quot;</td><td>0</td><td>&quot;Transient&quot;</td><td>75.0</td><td>0</td><td>0</td><td>&quot;Check-Out&quot;</td><td>&quot;2015-07-02&quot;</td></tr><tr><td>&quot;Resort Hotel&quot;</td><td>0</td><td>14</td><td>2015</td><td>&quot;July&quot;</td><td>27</td><td>1</td><td>0</td><td>2</td><td>2</td><td>0</td><td>0</td><td>&quot;BB&quot;</td><td>&quot;GBR&quot;</td><td>&quot;Online TA&quot;</td><td>&quot;TA/TO&quot;</td><td>0</td><td>0</td><td>0</td><td>&quot;A&quot;</td><td>&quot;A&quot;</td><td>0</td><td>&quot;No Deposit&quot;</td><td>&quot;240&quot;</td><td>&quot;NULL&quot;</td><td>0</td><td>&quot;Transient&quot;</td><td>98.0</td><td>0</td><td>1</td><td>&quot;Check-Out&quot;</td><td>&quot;2015-07-03&quot;</td></tr><tr><td>&hellip;</td><td>&hellip;</td><td>&hellip;</td><td>&hellip;</td><td>&hellip;</td><td>&hellip;</td><td>&hellip;</td><td>&hellip;</td><td>&hellip;</td><td>&hellip;</td><td>&hellip;</td><td>&hellip;</td><td>&hellip;</td><td>&hellip;</td><td>&hellip;</td><td>&hellip;</td><td>&hellip;</td><td>&hellip;</td><td>&hellip;</td><td>&hellip;</td><td>&hellip;</td><td>&hellip;</td><td>&hellip;</td><td>&hellip;</td><td>&hellip;</td><td>&hellip;</td><td>&hellip;</td><td>&hellip;</td><td>&hellip;</td><td>&hellip;</td><td>&hellip;</td><td>&hellip;</td></tr><tr><td>&quot;City Hotel&quot;</td><td>0</td><td>23</td><td>2017</td><td>&quot;August&quot;</td><td>35</td><td>30</td><td>2</td><td>5</td><td>2</td><td>0</td><td>0</td><td>&quot;BB&quot;</td><td>&quot;BEL&quot;</td><td>&quot;Offline TA/TO&quot;</td><td>&quot;TA/TO&quot;</td><td>0</td><td>0</td><td>0</td><td>&quot;A&quot;</td><td>&quot;A&quot;</td><td>0</td><td>&quot;No Deposit&quot;</td><td>&quot;394&quot;</td><td>&quot;NULL&quot;</td><td>0</td><td>&quot;Transient&quot;</td><td>96.14</td><td>0</td><td>0</td><td>&quot;Check-Out&quot;</td><td>&quot;2017-09-06&quot;</td></tr><tr><td>&quot;City Hotel&quot;</td><td>0</td><td>102</td><td>2017</td><td>&quot;August&quot;</td><td>35</td><td>31</td><td>2</td><td>5</td><td>3</td><td>0</td><td>0</td><td>&quot;BB&quot;</td><td>&quot;FRA&quot;</td><td>&quot;Online TA&quot;</td><td>&quot;TA/TO&quot;</td><td>0</td><td>0</td><td>0</td><td>&quot;E&quot;</td><td>&quot;E&quot;</td><td>0</td><td>&quot;No Deposit&quot;</td><td>&quot;9&quot;</td><td>&quot;NULL&quot;</td><td>0</td><td>&quot;Transient&quot;</td><td>225.43</td><td>0</td><td>2</td><td>&quot;Check-Out&quot;</td><td>&quot;2017-09-07&quot;</td></tr><tr><td>&quot;City Hotel&quot;</td><td>0</td><td>34</td><td>2017</td><td>&quot;August&quot;</td><td>35</td><td>31</td><td>2</td><td>5</td><td>2</td><td>0</td><td>0</td><td>&quot;BB&quot;</td><td>&quot;DEU&quot;</td><td>&quot;Online TA&quot;</td><td>&quot;TA/TO&quot;</td><td>0</td><td>0</td><td>0</td><td>&quot;D&quot;</td><td>&quot;D&quot;</td><td>0</td><td>&quot;No Deposit&quot;</td><td>&quot;9&quot;</td><td>&quot;NULL&quot;</td><td>0</td><td>&quot;Transient&quot;</td><td>157.71</td><td>0</td><td>4</td><td>&quot;Check-Out&quot;</td><td>&quot;2017-09-07&quot;</td></tr><tr><td>&quot;City Hotel&quot;</td><td>0</td><td>109</td><td>2017</td><td>&quot;August&quot;</td><td>35</td><td>31</td><td>2</td><td>5</td><td>2</td><td>0</td><td>0</td><td>&quot;BB&quot;</td><td>&quot;GBR&quot;</td><td>&quot;Online TA&quot;</td><td>&quot;TA/TO&quot;</td><td>0</td><td>0</td><td>0</td><td>&quot;A&quot;</td><td>&quot;A&quot;</td><td>0</td><td>&quot;No Deposit&quot;</td><td>&quot;89&quot;</td><td>&quot;NULL&quot;</td><td>0</td><td>&quot;Transient&quot;</td><td>104.4</td><td>0</td><td>0</td><td>&quot;Check-Out&quot;</td><td>&quot;2017-09-07&quot;</td></tr><tr><td>&quot;City Hotel&quot;</td><td>0</td><td>205</td><td>2017</td><td>&quot;August&quot;</td><td>35</td><td>29</td><td>2</td><td>7</td><td>2</td><td>0</td><td>0</td><td>&quot;HB&quot;</td><td>&quot;DEU&quot;</td><td>&quot;Online TA&quot;</td><td>&quot;TA/TO&quot;</td><td>0</td><td>0</td><td>0</td><td>&quot;A&quot;</td><td>&quot;A&quot;</td><td>0</td><td>&quot;No Deposit&quot;</td><td>&quot;9&quot;</td><td>&quot;NULL&quot;</td><td>0</td><td>&quot;Transient&quot;</td><td>151.2</td><td>0</td><td>2</td><td>&quot;Check-Out&quot;</td><td>&quot;2017-09-07&quot;</td></tr></tbody></table></div>"
      ]
     },
     "execution_count": 204,
     "metadata": {},
     "output_type": "execute_result"
    }
   ],
   "execution_count": 204
  },
  {
   "metadata": {
    "ExecuteTime": {
     "end_time": "2025-05-14T21:12:10.900371Z",
     "start_time": "2025-05-14T21:12:10.880518Z"
    }
   },
   "cell_type": "code",
   "source": [
    "reservas_por_mes = (\n",
    "    reservas\n",
    "        .filter(pl.col(\"is_canceled\") == 0)\n",
    "        .select(\n",
    "            pl.concat_str(\n",
    "                pl.col(\"arrival_date_year\"),\n",
    "                pl.col(\"arrival_date_month\"),\n",
    "                pl.lit(1),\n",
    "                separator=\"-\"\n",
    "            ).str.strptime(pl.Date, \"%Y-%B-%d\").alias(\"arrival_date\"),\n",
    "            \"hotel\", \"adr\", \"arrival_date_month\", \"country\", \"adults\", \"children\")\n",
    "        .with_columns(\n",
    "            pl.col(\"arrival_date\").dt.month().alias(\"month\"),\n",
    "        )\n",
    ")\n",
    "reservas_por_mes"
   ],
   "id": "2e6085edf58227da",
   "outputs": [
    {
     "data": {
      "text/plain": [
       "shape: (75_166, 8)\n",
       "┌──────────────┬──────────────┬────────┬────────────────────┬─────────┬────────┬──────────┬───────┐\n",
       "│ arrival_date ┆ hotel        ┆ adr    ┆ arrival_date_month ┆ country ┆ adults ┆ children ┆ month │\n",
       "│ ---          ┆ ---          ┆ ---    ┆ ---                ┆ ---     ┆ ---    ┆ ---      ┆ ---   │\n",
       "│ date         ┆ str          ┆ f64    ┆ str                ┆ str     ┆ i64    ┆ i64      ┆ i8    │\n",
       "╞══════════════╪══════════════╪════════╪════════════════════╪═════════╪════════╪══════════╪═══════╡\n",
       "│ 2015-07-01   ┆ Resort Hotel ┆ 0.0    ┆ July               ┆ PRT     ┆ 2      ┆ 0        ┆ 7     │\n",
       "│ 2015-07-01   ┆ Resort Hotel ┆ 0.0    ┆ July               ┆ PRT     ┆ 2      ┆ 0        ┆ 7     │\n",
       "│ 2015-07-01   ┆ Resort Hotel ┆ 75.0   ┆ July               ┆ GBR     ┆ 1      ┆ 0        ┆ 7     │\n",
       "│ 2015-07-01   ┆ Resort Hotel ┆ 75.0   ┆ July               ┆ GBR     ┆ 1      ┆ 0        ┆ 7     │\n",
       "│ 2015-07-01   ┆ Resort Hotel ┆ 98.0   ┆ July               ┆ GBR     ┆ 2      ┆ 0        ┆ 7     │\n",
       "│ …            ┆ …            ┆ …      ┆ …                  ┆ …       ┆ …      ┆ …        ┆ …     │\n",
       "│ 2017-08-01   ┆ City Hotel   ┆ 96.14  ┆ August             ┆ BEL     ┆ 2      ┆ 0        ┆ 8     │\n",
       "│ 2017-08-01   ┆ City Hotel   ┆ 225.43 ┆ August             ┆ FRA     ┆ 3      ┆ 0        ┆ 8     │\n",
       "│ 2017-08-01   ┆ City Hotel   ┆ 157.71 ┆ August             ┆ DEU     ┆ 2      ┆ 0        ┆ 8     │\n",
       "│ 2017-08-01   ┆ City Hotel   ┆ 104.4  ┆ August             ┆ GBR     ┆ 2      ┆ 0        ┆ 8     │\n",
       "│ 2017-08-01   ┆ City Hotel   ┆ 151.2  ┆ August             ┆ DEU     ┆ 2      ┆ 0        ┆ 8     │\n",
       "└──────────────┴──────────────┴────────┴────────────────────┴─────────┴────────┴──────────┴───────┘"
      ],
      "text/html": [
       "<div><style>\n",
       ".dataframe > thead > tr,\n",
       ".dataframe > tbody > tr {\n",
       "  text-align: right;\n",
       "  white-space: pre-wrap;\n",
       "}\n",
       "</style>\n",
       "<small>shape: (75_166, 8)</small><table border=\"1\" class=\"dataframe\"><thead><tr><th>arrival_date</th><th>hotel</th><th>adr</th><th>arrival_date_month</th><th>country</th><th>adults</th><th>children</th><th>month</th></tr><tr><td>date</td><td>str</td><td>f64</td><td>str</td><td>str</td><td>i64</td><td>i64</td><td>i8</td></tr></thead><tbody><tr><td>2015-07-01</td><td>&quot;Resort Hotel&quot;</td><td>0.0</td><td>&quot;July&quot;</td><td>&quot;PRT&quot;</td><td>2</td><td>0</td><td>7</td></tr><tr><td>2015-07-01</td><td>&quot;Resort Hotel&quot;</td><td>0.0</td><td>&quot;July&quot;</td><td>&quot;PRT&quot;</td><td>2</td><td>0</td><td>7</td></tr><tr><td>2015-07-01</td><td>&quot;Resort Hotel&quot;</td><td>75.0</td><td>&quot;July&quot;</td><td>&quot;GBR&quot;</td><td>1</td><td>0</td><td>7</td></tr><tr><td>2015-07-01</td><td>&quot;Resort Hotel&quot;</td><td>75.0</td><td>&quot;July&quot;</td><td>&quot;GBR&quot;</td><td>1</td><td>0</td><td>7</td></tr><tr><td>2015-07-01</td><td>&quot;Resort Hotel&quot;</td><td>98.0</td><td>&quot;July&quot;</td><td>&quot;GBR&quot;</td><td>2</td><td>0</td><td>7</td></tr><tr><td>&hellip;</td><td>&hellip;</td><td>&hellip;</td><td>&hellip;</td><td>&hellip;</td><td>&hellip;</td><td>&hellip;</td><td>&hellip;</td></tr><tr><td>2017-08-01</td><td>&quot;City Hotel&quot;</td><td>96.14</td><td>&quot;August&quot;</td><td>&quot;BEL&quot;</td><td>2</td><td>0</td><td>8</td></tr><tr><td>2017-08-01</td><td>&quot;City Hotel&quot;</td><td>225.43</td><td>&quot;August&quot;</td><td>&quot;FRA&quot;</td><td>3</td><td>0</td><td>8</td></tr><tr><td>2017-08-01</td><td>&quot;City Hotel&quot;</td><td>157.71</td><td>&quot;August&quot;</td><td>&quot;DEU&quot;</td><td>2</td><td>0</td><td>8</td></tr><tr><td>2017-08-01</td><td>&quot;City Hotel&quot;</td><td>104.4</td><td>&quot;August&quot;</td><td>&quot;GBR&quot;</td><td>2</td><td>0</td><td>8</td></tr><tr><td>2017-08-01</td><td>&quot;City Hotel&quot;</td><td>151.2</td><td>&quot;August&quot;</td><td>&quot;DEU&quot;</td><td>2</td><td>0</td><td>8</td></tr></tbody></table></div>"
      ]
     },
     "execution_count": 205,
     "metadata": {},
     "output_type": "execute_result"
    }
   ],
   "execution_count": 205
  },
  {
   "metadata": {
    "ExecuteTime": {
     "end_time": "2025-05-14T21:12:10.917277Z",
     "start_time": "2025-05-14T21:12:10.909847Z"
    }
   },
   "cell_type": "code",
   "source": [
    "numero_reservas_por_mes = (\n",
    "    reservas_por_mes\n",
    "    .group_by(\"arrival_date_month\", \"month\", \"hotel\")\n",
    "        .agg(pl.col(\"adr\").count())\n",
    "        .rename({\"adr\": \"count\"})\n",
    "        .sort(by=\"month\")\n",
    ")\n",
    "\n",
    "numero_reservas_por_mes\n"
   ],
   "id": "f4d72e700bd0ceb4",
   "outputs": [
    {
     "data": {
      "text/plain": [
       "shape: (24, 4)\n",
       "┌────────────────────┬───────┬──────────────┬───────┐\n",
       "│ arrival_date_month ┆ month ┆ hotel        ┆ count │\n",
       "│ ---                ┆ ---   ┆ ---          ┆ ---   │\n",
       "│ str                ┆ i8    ┆ str          ┆ u32   │\n",
       "╞════════════════════╪═══════╪══════════════╪═══════╡\n",
       "│ January            ┆ 1     ┆ Resort Hotel ┆ 1868  │\n",
       "│ January            ┆ 1     ┆ City Hotel   ┆ 2254  │\n",
       "│ February           ┆ 2     ┆ City Hotel   ┆ 3064  │\n",
       "│ February           ┆ 2     ┆ Resort Hotel ┆ 2308  │\n",
       "│ March              ┆ 3     ┆ Resort Hotel ┆ 2573  │\n",
       "│ …                  ┆ …     ┆ …            ┆ …     │\n",
       "│ October            ┆ 10    ┆ City Hotel   ┆ 4337  │\n",
       "│ November           ┆ 11    ┆ City Hotel   ┆ 2696  │\n",
       "│ November           ┆ 11    ┆ Resort Hotel ┆ 1976  │\n",
       "│ December           ┆ 12    ┆ Resort Hotel ┆ 2017  │\n",
       "│ December           ┆ 12    ┆ City Hotel   ┆ 2392  │\n",
       "└────────────────────┴───────┴──────────────┴───────┘"
      ],
      "text/html": [
       "<div><style>\n",
       ".dataframe > thead > tr,\n",
       ".dataframe > tbody > tr {\n",
       "  text-align: right;\n",
       "  white-space: pre-wrap;\n",
       "}\n",
       "</style>\n",
       "<small>shape: (24, 4)</small><table border=\"1\" class=\"dataframe\"><thead><tr><th>arrival_date_month</th><th>month</th><th>hotel</th><th>count</th></tr><tr><td>str</td><td>i8</td><td>str</td><td>u32</td></tr></thead><tbody><tr><td>&quot;January&quot;</td><td>1</td><td>&quot;Resort Hotel&quot;</td><td>1868</td></tr><tr><td>&quot;January&quot;</td><td>1</td><td>&quot;City Hotel&quot;</td><td>2254</td></tr><tr><td>&quot;February&quot;</td><td>2</td><td>&quot;City Hotel&quot;</td><td>3064</td></tr><tr><td>&quot;February&quot;</td><td>2</td><td>&quot;Resort Hotel&quot;</td><td>2308</td></tr><tr><td>&quot;March&quot;</td><td>3</td><td>&quot;Resort Hotel&quot;</td><td>2573</td></tr><tr><td>&hellip;</td><td>&hellip;</td><td>&hellip;</td><td>&hellip;</td></tr><tr><td>&quot;October&quot;</td><td>10</td><td>&quot;City Hotel&quot;</td><td>4337</td></tr><tr><td>&quot;November&quot;</td><td>11</td><td>&quot;City Hotel&quot;</td><td>2696</td></tr><tr><td>&quot;November&quot;</td><td>11</td><td>&quot;Resort Hotel&quot;</td><td>1976</td></tr><tr><td>&quot;December&quot;</td><td>12</td><td>&quot;Resort Hotel&quot;</td><td>2017</td></tr><tr><td>&quot;December&quot;</td><td>12</td><td>&quot;City Hotel&quot;</td><td>2392</td></tr></tbody></table></div>"
      ]
     },
     "execution_count": 206,
     "metadata": {},
     "output_type": "execute_result"
    }
   ],
   "execution_count": 206
  },
  {
   "metadata": {
    "ExecuteTime": {
     "end_time": "2025-05-14T21:12:10.946600Z",
     "start_time": "2025-05-14T21:12:10.926085Z"
    }
   },
   "cell_type": "code",
   "source": [
    "fig = px.bar(numero_reservas_por_mes, x=\"arrival_date_month\", y=\"count\", color=\"hotel\", title=\"Cantidad de reservas sin cancelación por mes (2015 - 2017)\", opacity=0.6, labels={\"hotel\": \"Hotel\", \"arrival_date_month\": \"Mes de llegada\", \"count\": \"Cantidad de reservas\"})\n",
    "fig.show()"
   ],
   "id": "97000d57247f5c26",
   "outputs": [
    {
     "data": {
      "text/html": [
       "<iframe style=\"color-scheme: none;\"\n",
       "    scrolling=\"no\"\n",
       "    width=\"100%\"\n",
       "    height=\"545px\"\n",
       "    src=\"../assets/notebooks/html_9da05b0e-054b-49f8-a505-b453182e5dde/figure_207.html\"\n",
       "    frameborder=\"0\"\n",
       "    allowfullscreen\n",
       "></iframe>\n"
      ]
     },
     "metadata": {},
     "output_type": "display_data"
    }
   ],
   "execution_count": 207
  },
  {
   "metadata": {},
   "cell_type": "markdown",
   "source": "Al parecer, los meses donde más reservaciones hay son Julio y Agosto, tanto para el Hotel Urbano como para el Hotel Resort. No es nada nuevo, puesto que son normalmente los meses de verano donde más personas salen a vacacionar. Sin embargo, algo que sorprende son los números de reservas para el mes de Junio, ya que son pocas en comparación con el increible clima que hace en este mes. Los primeros días de Septiembre, si bien no acostumbra a ser extremadamente soleado, no esta nada mal para tomarse unas vacaciones. Por lo general, los primeros cuatro meses del año y los últimos tres, no tienen el mejor clima, por eso no es de sorprendernos que sus números no sean tan altos. Por otro lado, sería interesante ver las nacionalidades de los turistas que vistan estos hoteles, miremos:",
   "id": "a7fe69bbebdcf783"
  },
  {
   "metadata": {
    "ExecuteTime": {
     "end_time": "2025-05-14T21:12:10.962195Z",
     "start_time": "2025-05-14T21:12:10.956440Z"
    }
   },
   "cell_type": "code",
   "source": [
    "nacionalidades_reservas = (\n",
    "    reservas_por_mes.select(\"country\", \"hotel\", \"adr\")\n",
    "        .group_by([\"country\", \"hotel\"])\n",
    "        .agg(pl.col(\"adr\").count())\n",
    "        .rename({\"adr\": \"count\"})\n",
    "        .sort(by=\"count\", descending=True)\n",
    ")\n",
    "nacionalidades_reservas"
   ],
   "id": "91fe9a6e35e1ff4",
   "outputs": [
    {
     "data": {
      "text/plain": [
       "shape: (270, 3)\n",
       "┌─────────┬──────────────┬───────┐\n",
       "│ country ┆ hotel        ┆ count │\n",
       "│ ---     ┆ ---          ┆ ---   │\n",
       "│ str     ┆ str          ┆ u32   │\n",
       "╞═════════╪══════════════╪═══════╡\n",
       "│ PRT     ┆ City Hotel   ┆ 10879 │\n",
       "│ PRT     ┆ Resort Hotel ┆ 10192 │\n",
       "│ FRA     ┆ City Hotel   ┆ 7081  │\n",
       "│ GBR     ┆ Resort Hotel ┆ 5923  │\n",
       "│ DEU     ┆ City Hotel   ┆ 5012  │\n",
       "│ …       ┆ …            ┆ …     │\n",
       "│ MUS     ┆ Resort Hotel ┆ 1     │\n",
       "│ GUY     ┆ City Hotel   ┆ 1     │\n",
       "│ BIH     ┆ Resort Hotel ┆ 1     │\n",
       "│ JAM     ┆ City Hotel   ┆ 1     │\n",
       "│ DMA     ┆ City Hotel   ┆ 1     │\n",
       "└─────────┴──────────────┴───────┘"
      ],
      "text/html": [
       "<div><style>\n",
       ".dataframe > thead > tr,\n",
       ".dataframe > tbody > tr {\n",
       "  text-align: right;\n",
       "  white-space: pre-wrap;\n",
       "}\n",
       "</style>\n",
       "<small>shape: (270, 3)</small><table border=\"1\" class=\"dataframe\"><thead><tr><th>country</th><th>hotel</th><th>count</th></tr><tr><td>str</td><td>str</td><td>u32</td></tr></thead><tbody><tr><td>&quot;PRT&quot;</td><td>&quot;City Hotel&quot;</td><td>10879</td></tr><tr><td>&quot;PRT&quot;</td><td>&quot;Resort Hotel&quot;</td><td>10192</td></tr><tr><td>&quot;FRA&quot;</td><td>&quot;City Hotel&quot;</td><td>7081</td></tr><tr><td>&quot;GBR&quot;</td><td>&quot;Resort Hotel&quot;</td><td>5923</td></tr><tr><td>&quot;DEU&quot;</td><td>&quot;City Hotel&quot;</td><td>5012</td></tr><tr><td>&hellip;</td><td>&hellip;</td><td>&hellip;</td></tr><tr><td>&quot;MUS&quot;</td><td>&quot;Resort Hotel&quot;</td><td>1</td></tr><tr><td>&quot;GUY&quot;</td><td>&quot;City Hotel&quot;</td><td>1</td></tr><tr><td>&quot;BIH&quot;</td><td>&quot;Resort Hotel&quot;</td><td>1</td></tr><tr><td>&quot;JAM&quot;</td><td>&quot;City Hotel&quot;</td><td>1</td></tr><tr><td>&quot;DMA&quot;</td><td>&quot;City Hotel&quot;</td><td>1</td></tr></tbody></table></div>"
      ]
     },
     "execution_count": 208,
     "metadata": {},
     "output_type": "execute_result"
    }
   ],
   "execution_count": 208
  },
  {
   "metadata": {
    "ExecuteTime": {
     "end_time": "2025-05-14T21:12:10.991816Z",
     "start_time": "2025-05-14T21:12:10.971097Z"
    }
   },
   "cell_type": "code",
   "source": [
    "fig = px.bar(nacionalidades_reservas, x=\"country\", y=\"count\", color=\"hotel\", title=\"Cantidad de reservaciones por país de origen (2015 - 2017)\", opacity=0.6, labels={\"hotel\": \"Hotel\", \"country\": \"País\", \"count\": \"Cantidad de reservas\"})\n",
    "fig.show()"
   ],
   "id": "8b75273dc2bab9b4",
   "outputs": [
    {
     "data": {
      "text/html": [
       "<iframe style=\"color-scheme: none;\"\n",
       "    scrolling=\"no\"\n",
       "    width=\"100%\"\n",
       "    height=\"545px\"\n",
       "    src=\"../assets/notebooks/html_9da05b0e-054b-49f8-a505-b453182e5dde/figure_209.html\"\n",
       "    frameborder=\"0\"\n",
       "    allowfullscreen\n",
       "></iframe>\n"
      ]
     },
     "metadata": {},
     "output_type": "display_data"
    }
   ],
   "execution_count": 209
  },
  {
   "metadata": {},
   "cell_type": "markdown",
   "source": "Vemos que tenemos muchos paises (178 para ser exactos) desde donde proceden las personas que han hecho las reservas. Tiene sentido que Portugal sea el país desde donde más se hacen reservas a Lisboa, seguido de los paises cercanos como España, Francia, Italia y Reino Unido, este último al igual que Irlanda parecen preferir el hotel de tipo resort en lugar del hotel urbano. Por el contrario, los tres primeros paises mencionados anteriormente prefieren visitar el Hotel Urbano, al igual que Alemania. Sería interesante conocer de que paises serían los turistas que nos pudieramos encontrar en Lisboa, en caso de que viajaramos en Junio o Septiembre (que como ya vimos, son los mejores meses para viajar), en caso de que nos hospedemos en alguno de los dos hoteles. Quizá podamos hacer amigos mientras viajamos, miremos qué nos dicen los datos:",
   "id": "c672fe784bd39af9"
  },
  {
   "metadata": {
    "ExecuteTime": {
     "end_time": "2025-05-14T21:12:11.018748Z",
     "start_time": "2025-05-14T21:12:11.000063Z"
    }
   },
   "cell_type": "code",
   "source": [
    "nacionalidad_reservas_mes = (\n",
    "    reservas_por_mes\n",
    "    .filter(pl.col(\"arrival_date_month\").is_in([\"June\", \"September\"]))\n",
    "    .group_by(\"arrival_date_month\", \"country\", \"hotel\")\n",
    "    .agg(pl.col(\"adr\").count(), pl.col(\"adults\").sum(), pl.col(\"children\").sum())\n",
    "    .rename({\"adr\": \"count\"})\n",
    "    .filter(pl.col(\"count\") > 50)\n",
    "    .sort(by=[\"arrival_date_month\", \"count\"], descending=True)\n",
    ")\n",
    "nacionalidad_reservas_mes = nacionalidad_reservas_mes.with_columns(\n",
    "    total_people=(pl.col(\"adults\") + pl.col(\"children\"))\n",
    ")\n",
    "nacionalidad_reservas_mes\n",
    "#reservas_por_mes"
   ],
   "id": "c73266a8ad1e1f51",
   "outputs": [
    {
     "data": {
      "text/plain": [
       "shape: (43, 7)\n",
       "┌────────────────────┬─────────┬──────────────┬───────┬────────┬──────────┬──────────────┐\n",
       "│ arrival_date_month ┆ country ┆ hotel        ┆ count ┆ adults ┆ children ┆ total_people │\n",
       "│ ---                ┆ ---     ┆ ---          ┆ ---   ┆ ---    ┆ ---      ┆ ---          │\n",
       "│ str                ┆ str     ┆ str          ┆ u32   ┆ i64    ┆ i64      ┆ i64          │\n",
       "╞════════════════════╪═════════╪══════════════╪═══════╪════════╪══════════╪══════════════╡\n",
       "│ September          ┆ PRT     ┆ City Hotel   ┆ 1196  ┆ 2005   ┆ 57       ┆ 2062         │\n",
       "│ September          ┆ GBR     ┆ Resort Hotel ┆ 568   ┆ 1089   ┆ 26       ┆ 1115         │\n",
       "│ September          ┆ FRA     ┆ City Hotel   ┆ 519   ┆ 943    ┆ 11       ┆ 954          │\n",
       "│ September          ┆ DEU     ┆ City Hotel   ┆ 447   ┆ 826    ┆ 17       ┆ 843          │\n",
       "│ September          ┆ PRT     ┆ Resort Hotel ┆ 430   ┆ 797    ┆ 40       ┆ 837          │\n",
       "│ …                  ┆ …       ┆ …            ┆ …     ┆ …      ┆ …        ┆ …            │\n",
       "│ June               ┆ SRB     ┆ City Hotel   ┆ 68    ┆ 74     ┆ 0        ┆ 74           │\n",
       "│ June               ┆ SWE     ┆ City Hotel   ┆ 68    ┆ 128    ┆ 15       ┆ 143          │\n",
       "│ June               ┆ DEU     ┆ Resort Hotel ┆ 56    ┆ 107    ┆ 2        ┆ 109          │\n",
       "│ June               ┆ FRA     ┆ Resort Hotel ┆ 54    ┆ 105    ┆ 10       ┆ 115          │\n",
       "│ June               ┆ POL     ┆ Resort Hotel ┆ 51    ┆ 100    ┆ 3        ┆ 103          │\n",
       "└────────────────────┴─────────┴──────────────┴───────┴────────┴──────────┴──────────────┘"
      ],
      "text/html": [
       "<div><style>\n",
       ".dataframe > thead > tr,\n",
       ".dataframe > tbody > tr {\n",
       "  text-align: right;\n",
       "  white-space: pre-wrap;\n",
       "}\n",
       "</style>\n",
       "<small>shape: (43, 7)</small><table border=\"1\" class=\"dataframe\"><thead><tr><th>arrival_date_month</th><th>country</th><th>hotel</th><th>count</th><th>adults</th><th>children</th><th>total_people</th></tr><tr><td>str</td><td>str</td><td>str</td><td>u32</td><td>i64</td><td>i64</td><td>i64</td></tr></thead><tbody><tr><td>&quot;September&quot;</td><td>&quot;PRT&quot;</td><td>&quot;City Hotel&quot;</td><td>1196</td><td>2005</td><td>57</td><td>2062</td></tr><tr><td>&quot;September&quot;</td><td>&quot;GBR&quot;</td><td>&quot;Resort Hotel&quot;</td><td>568</td><td>1089</td><td>26</td><td>1115</td></tr><tr><td>&quot;September&quot;</td><td>&quot;FRA&quot;</td><td>&quot;City Hotel&quot;</td><td>519</td><td>943</td><td>11</td><td>954</td></tr><tr><td>&quot;September&quot;</td><td>&quot;DEU&quot;</td><td>&quot;City Hotel&quot;</td><td>447</td><td>826</td><td>17</td><td>843</td></tr><tr><td>&quot;September&quot;</td><td>&quot;PRT&quot;</td><td>&quot;Resort Hotel&quot;</td><td>430</td><td>797</td><td>40</td><td>837</td></tr><tr><td>&hellip;</td><td>&hellip;</td><td>&hellip;</td><td>&hellip;</td><td>&hellip;</td><td>&hellip;</td><td>&hellip;</td></tr><tr><td>&quot;June&quot;</td><td>&quot;SRB&quot;</td><td>&quot;City Hotel&quot;</td><td>68</td><td>74</td><td>0</td><td>74</td></tr><tr><td>&quot;June&quot;</td><td>&quot;SWE&quot;</td><td>&quot;City Hotel&quot;</td><td>68</td><td>128</td><td>15</td><td>143</td></tr><tr><td>&quot;June&quot;</td><td>&quot;DEU&quot;</td><td>&quot;Resort Hotel&quot;</td><td>56</td><td>107</td><td>2</td><td>109</td></tr><tr><td>&quot;June&quot;</td><td>&quot;FRA&quot;</td><td>&quot;Resort Hotel&quot;</td><td>54</td><td>105</td><td>10</td><td>115</td></tr><tr><td>&quot;June&quot;</td><td>&quot;POL&quot;</td><td>&quot;Resort Hotel&quot;</td><td>51</td><td>100</td><td>3</td><td>103</td></tr></tbody></table></div>"
      ]
     },
     "execution_count": 210,
     "metadata": {},
     "output_type": "execute_result"
    }
   ],
   "execution_count": 210
  },
  {
   "metadata": {
    "ExecuteTime": {
     "end_time": "2025-05-14T21:12:11.062928Z",
     "start_time": "2025-05-14T21:12:11.031472Z"
    }
   },
   "cell_type": "code",
   "source": [
    "fig = px.treemap(\n",
    "    nacionalidad_reservas_mes,\n",
    "    path=[px.Constant(\"Months\"), 'arrival_date_month', \"hotel\", 'country'],\n",
    "    values='total_people',\n",
    "    color='total_people',\n",
    "    color_continuous_scale='RdBu_r',\n",
    "    color_continuous_midpoint=np.average(\n",
    "        (nacionalidad_reservas_mes.select('total_people').get_column(\"total_people\")).to_list(),\n",
    "        weights=(nacionalidad_reservas_mes.select('count').get_column(\"count\")).to_list()\n",
    "    ),\n",
    "    title=\"Cantidad de personas por país y tipo de hotel en los meses de Junio y Septiembre, incluyendo adultos y niños (no bebés).\",\n",
    "    labels={\"total_people\": \"Total Personas\"},\n",
    ")\n",
    "fig.update_layout(margin=dict(t=50, l=25, r=25, b=25))\n",
    "fig.update_traces(\n",
    "    marker=dict(cornerradius=5),\n",
    "    hovertemplate='<b>%{label} </b> <br> Total personas: %{value:,}'\n",
    ")\n",
    "fig.show()"
   ],
   "id": "b47b3e94cd597843",
   "outputs": [
    {
     "data": {
      "text/html": [
       "<iframe style=\"color-scheme: none;\"\n",
       "    scrolling=\"no\"\n",
       "    width=\"100%\"\n",
       "    height=\"545px\"\n",
       "    src=\"../assets/notebooks/html_9da05b0e-054b-49f8-a505-b453182e5dde/figure_211.html\"\n",
       "    frameborder=\"0\"\n",
       "    allowfullscreen\n",
       "></iframe>\n"
      ]
     },
     "metadata": {},
     "output_type": "display_data"
    }
   ],
   "execution_count": 211
  },
  {
   "metadata": {},
   "cell_type": "markdown",
   "source": [
    "El anterior gráfico de árbol nos muestra la cantidad de personas por nacionalidad que podemos encontrarnos, sea que vayamos en Junio o en Septiembre y sea que nos quedemos en el hotel tipo resort o en el hotel urbano. Puedes pasar el cursor por encima de cada cuadro para obtener el total de personas de cada nacionalidad, también dar clic, por ejemplo en el hotel urbano del mes de Junio, para navegar directamente a esta información.\n",
    "\n",
    "Vemos que si nos hospedamos en el hotel de tipo resort, tenemos muchas más chances de encontrarnos británicos que portugeses. Puesto que Reino Unido no tiene playas meditarreneas, tiene sentido que vayan en busca de este tipo de planes. Por el contrario, en el hotel urbano nos encontraremos en mayor medida con Portugueses, Alemanes y Frances en Junio. Similar sucederá si vamo en Septiembre, aunque tambien podriamos encontrarnos con algún Español.\n",
    "\n",
    "En general, habrá un poco más de turistas en Junio que en Septiembre, pero, segun los datos, será el hotel urbano quién tendrá mas cantidad de personas, por lo tanto, sería un excelente plan ir al resort cerca del mar en Junio: Menos personas, hermosas playas, y mas gente que hable inglés."
   ],
   "id": "52b66f3a0448214f"
  },
  {
   "cell_type": "code",
   "id": "52c10d30",
   "metadata": {
    "id": "52c10d30",
    "colab": {
     "base_uri": "https://localhost:8080/",
     "height": 566
    },
    "outputId": "d917b0b5-c830-402a-bcf6-244792b9ce30",
    "ExecuteTime": {
     "end_time": "2025-05-14T21:12:11.219508Z",
     "start_time": "2025-05-14T21:12:11.072811Z"
    }
   },
   "source": [
    "# Example from: https://plotly.com/python/time-series/\n",
    "\n",
    "df = pd.read_csv(\n",
    "    \"https://raw.githubusercontent.com/plotly/\"\n",
    "    \"datasets/master/finance-charts-apple.csv\"\n",
    ")\n",
    "\n",
    "fig = go.Figure(go.Scatter(x=df[\"Date\"], y=df[\"mavg\"]))\n",
    "\n",
    "fig.update_xaxes(\n",
    "    rangeslider_visible=True,\n",
    "    tickformatstops=[\n",
    "        dict(dtickrange=[None, 1000], value=\"%H:%M:%S.%L ms\"),\n",
    "        dict(dtickrange=[1000, 60000], value=\"%H:%M:%S s\"),\n",
    "        dict(dtickrange=[60000, 3600000], value=\"%H:%M m\"),\n",
    "        dict(dtickrange=[3600000, 86400000], value=\"%H:%M h\"),\n",
    "        dict(dtickrange=[86400000, 604800000], value=\"%e. %b d\"),\n",
    "        dict(dtickrange=[604800000, \"M1\"], value=\"%e. %b w\"),\n",
    "        dict(dtickrange=[\"M1\", \"M12\"], value=\"%b '%y M\"),\n",
    "        dict(dtickrange=[\"M12\", None], value=\"%Y Y\"),\n",
    "    ],\n",
    ")\n",
    "\n",
    "fig.show()"
   ],
   "outputs": [
    {
     "data": {
      "text/html": [
       "<iframe style=\"color-scheme: none;\"\n",
       "    scrolling=\"no\"\n",
       "    width=\"100%\"\n",
       "    height=\"545px\"\n",
       "    src=\"../assets/notebooks/html_9da05b0e-054b-49f8-a505-b453182e5dde/figure_212.html\"\n",
       "    frameborder=\"0\"\n",
       "    allowfullscreen\n",
       "></iframe>\n"
      ]
     },
     "metadata": {},
     "output_type": "display_data"
    }
   ],
   "execution_count": 212
  },
  {
   "cell_type": "markdown",
   "id": "78a0fc02",
   "metadata": {
    "id": "78a0fc02"
   },
   "source": [
    "### 3D Surface"
   ]
  },
  {
   "cell_type": "code",
   "id": "a4cc3dda",
   "metadata": {
    "id": "a4cc3dda",
    "colab": {
     "base_uri": "https://localhost:8080/",
     "height": 541
    },
    "outputId": "10005c20-d00b-41a5-951e-5d9cd4e75eb5",
    "ExecuteTime": {
     "end_time": "2025-05-14T21:12:11.352480Z",
     "start_time": "2025-05-14T21:12:11.228270Z"
    }
   },
   "source": [
    "# Example from: https://plotly.com/python/3d-surface-plots/\n",
    "\n",
    "# Read data from a csv\n",
    "z_data = pd.read_csv(\n",
    "    \"https://raw.githubusercontent.com/plotly/\"\n",
    "    \"datasets/master/api_docs/mt_bruno_elevation.csv\"\n",
    ")\n",
    "\n",
    "fig = go.Figure(data=[go.Surface(z=z_data.values)])\n",
    "fig.update_traces(\n",
    "    contours_z=dict(\n",
    "        show=True, usecolormap=True, highlightcolor=\"limegreen\", project_z=True\n",
    "    )\n",
    ")\n",
    "fig.update_layout(\n",
    "    title=\"Mt Bruno Elevation\",\n",
    "    autosize=False,\n",
    "    scene_camera_eye=dict(x=1.87, y=0.88, z=-0.64),\n",
    "    width=500,\n",
    "    height=500,\n",
    "    margin=dict(l=65, r=50, b=65, t=90),\n",
    ")\n",
    "\n",
    "fig.show()"
   ],
   "outputs": [
    {
     "data": {
      "text/html": [
       "<iframe style=\"color-scheme: none;\"\n",
       "    scrolling=\"no\"\n",
       "    width=\"520px\"\n",
       "    height=\"520\"\n",
       "    src=\"../assets/notebooks/html_9da05b0e-054b-49f8-a505-b453182e5dde/figure_213.html\"\n",
       "    frameborder=\"0\"\n",
       "    allowfullscreen\n",
       "></iframe>\n"
      ]
     },
     "metadata": {},
     "output_type": "display_data"
    }
   ],
   "execution_count": 213
  },
  {
   "cell_type": "markdown",
   "id": "0b772b3e",
   "metadata": {
    "id": "0b772b3e"
   },
   "source": [
    "### Treemap"
   ]
  },
  {
   "cell_type": "code",
   "id": "3d3137d4",
   "metadata": {
    "id": "3d3137d4",
    "colab": {
     "base_uri": "https://localhost:8080/",
     "height": 566
    },
    "outputId": "cd4b1f7e-4451-46fc-82fc-18d81aec8efe",
    "ExecuteTime": {
     "end_time": "2025-05-14T21:12:11.423902Z",
     "start_time": "2025-05-14T21:12:11.365161Z"
    }
   },
   "source": [
    "# Example from: https://plotly.com/python/plotly-express/\n",
    "\n",
    "df = px.data.gapminder().query(\"year == 2007\")\n",
    "fig = px.treemap(\n",
    "    df,\n",
    "    path=[px.Constant(\"world\"), \"continent\", \"country\"],\n",
    "    values=\"pop\",\n",
    "    color=\"lifeExp\",\n",
    "    hover_data=[\"iso_alpha\"],\n",
    ")\n",
    "fig.show()"
   ],
   "outputs": [
    {
     "data": {
      "text/html": [
       "<iframe style=\"color-scheme: none;\"\n",
       "    scrolling=\"no\"\n",
       "    width=\"100%\"\n",
       "    height=\"545px\"\n",
       "    src=\"../assets/notebooks/html_9da05b0e-054b-49f8-a505-b453182e5dde/figure_214.html\"\n",
       "    frameborder=\"0\"\n",
       "    allowfullscreen\n",
       "></iframe>\n"
      ]
     },
     "metadata": {},
     "output_type": "display_data"
    }
   ],
   "execution_count": 214
  }
 ],
 "metadata": {
  "kernelspec": {
   "display_name": "Python 3 (ipykernel)",
   "language": "python",
   "name": "python3"
  },
  "language_info": {
   "codemirror_mode": {
    "name": "ipython",
    "version": 3
   },
   "file_extension": ".py",
   "mimetype": "text/x-python",
   "name": "python",
   "nbconvert_exporter": "python",
   "pygments_lexer": "ipython3",
   "version": "3.10.12"
  },
  "colab": {
   "provenance": []
  }
 },
 "nbformat": 4,
 "nbformat_minor": 5
}
