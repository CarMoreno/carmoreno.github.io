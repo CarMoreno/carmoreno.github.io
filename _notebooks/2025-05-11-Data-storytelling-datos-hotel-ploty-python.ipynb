{
 "cells": [
  {
   "cell_type": "markdown",
   "id": "e5cbf420",
   "metadata": {
    "id": "e5cbf420"
   },
   "source": [
    "---\n",
    "layout: post\n",
    "title: Data storytelling, visualizando datos sobre reservas de hoteles.\n",
    "date: 2025-05-11 10:49:19\n",
    "author: Carlos Andrés Moreno\n",
    "summary: En este artículo vamos a realizar un storytelling de un conjunto de datos de reservas de hoteles\n",
    "categories: Data\n",
    "thumbnail: plot\n",
    "tags:\n",
    "  - Data\n",
    "  - Python\n",
    "  - Plotly\n",
    "---"
   ]
  },
  {
   "cell_type": "markdown",
   "source": [
    "# Introducción"
   ],
   "metadata": {
    "id": "aoZKebYBHCID"
   },
   "id": "aoZKebYBHCID"
  },
  {
   "cell_type": "markdown",
   "source": [
    "Como parte de la Maestría en Cienicas de Datos que estoy estudiando en la [Universidad Oberta de Catalunya](https://uoc.edu), me fue asignada una actividad que consiste en crear un *Data Storytelling* de un conjunto de datos sobre reservaciones de hoteles en Lisboa, Portugal. Creo que es una excelente oportunidad de mostrar un poco lo que he aprendido este semestre en la asignatura de Visualización de Datos, es por eso que he decidido crear el *storytelling* en un nuevo artículo del blog.\n"
   ],
   "metadata": {
    "id": "uKCWeJz-PNMt"
   },
   "id": "uKCWeJz-PNMt"
  },
  {
   "cell_type": "markdown",
   "source": [
    "# Sobre los datos"
   ],
   "metadata": {
    "id": "6zvL80bGQoMV"
   },
   "id": "6zvL80bGQoMV"
  },
  {
   "cell_type": "markdown",
   "source": [
    "El conjunto de datos que vamos a usar a lo largo del *storytelling* ha sido descrito completamente en el artículo titulado [Hotel booking demand datasets ](https://www.sciencedirect.com/science/article/pii/S2352340918315191). Como se ha mencionado anteriormente, los datos tratan sobre reservaciones de hoteles en Lisboa, Portugal hechas desde Julio 1 de 2015 hasta Agosto 31 de 2017. Particularmente dos hoteles, uno ubicado en la zona urbana de la ciudad y otro hotel tipo resort.\n",
    "\n",
    "Cada fila del conjunto de datos es una reservación hecha por un cliente para alguno de los dos hoteles. Además, tenemos información sobre el número de niños, bebés y adultos dentro de la reserva; més, semana y día en el cual se hizo la reserva; país de residencia de cliente, si la reserva se canceló o no, el tipo de comida que se incluyó para los clientes, entre otra información de interés."
   ],
   "metadata": {
    "id": "BWkxBHzBQqJ2"
   },
   "id": "BWkxBHzBQqJ2"
  },
  {
   "cell_type": "markdown",
   "source": [
    "# Herrmientas usadas para la visualización"
   ],
   "metadata": {
    "id": "LFgBn5osHcTb"
   },
   "id": "LFgBn5osHcTb"
  },
  {
   "cell_type": "markdown",
   "source": [
    "Todas las visualizaciones que vas a ver han sido creadas usando la librería [Plotly](https://plotly.com/python/). El blog está hosteado en Github pages y utiliza Jekyll para generar todo el sitio (si quieres saber un poco más a cerca de esto, puedes hacer click [acá](https://carmoreno.com.co/tutoriales/2015/08/13/Como-hice-el-blog/)).\n",
    "\n",
    "Me gustaría tambien mencionar a [Jérome Eertmans](https://github.com/jeertmans), el artículo de su blog titulado [\"Embedding Plotly in a Jekyll Post\"](https://eertmans.be/posts/plotly-example/) fue de gran ayuda para poder integrar Plotly y Jekyll sin morir en el intento (a veces una buena googleada es mejor que escribirle a Gemini o ChatGPT)."
   ],
   "metadata": {
    "id": "mPKgB01aG-AE"
   },
   "id": "mPKgB01aG-AE"
  },
  {
   "cell_type": "markdown",
   "source": [
    "# Ahora sí, manos a la obra."
   ],
   "metadata": {
    "id": "nDT-9FP5IdF7"
   },
   "id": "nDT-9FP5IdF7"
  },
  {
   "metadata": {},
   "cell_type": "markdown",
   "source": "### ¿Prefieres mucha o poca gente?",
   "id": "498ef169049f8c5b"
  },
  {
   "cell_type": "markdown",
   "source": "Lisboa es uno de los destinos turísticos más visitados todos los años en Europa, tiene un clima excelente, buena comida, hermosos paisajes y playas mediterraneas. En 2021, esta ciudad ocupó [el tercer lugar](https://elordenmundial.com/mapas-y-graficos/ciudades-mas-visitadas-europa/) entre las 15 ciudades más visitadas de Europa, solo por detrás de París y Barcelona. Que sea tan popular no significa que todo sea color de rosa; muchas veces implica sitios de interés repletos de gente, pocos lugares para parquear tu vehículo y pagar precios más altos por temporada. ¿No sería mejor ir a Lisboa en una temporada un poco mas relajada?, podriamos usar los datos de hoteles para saber cuando hay mayor cantidad de turistas, entre más reservaciones sin cancelación existan, significa mayor cantidad de personas yendo a estos hoteles. Miremos qué nos dicen los datos.",
   "metadata": {
    "id": "czFgkKaNI4uy"
   },
   "id": "czFgkKaNI4uy"
  },
  {
   "metadata": {
    "ExecuteTime": {
     "end_time": "2025-05-15T16:25:25.487992Z",
     "start_time": "2025-05-15T16:25:25.485516Z"
    }
   },
   "cell_type": "code",
   "source": [
    "import polars as pl\n",
    "import numpy as np\n",
    "from plotting import express as px\n",
    "from plotting import graph_objects as go\n",
    "from plotly.subplots import make_subplots"
   ],
   "id": "f4a8d9b7d5f6b49c",
   "outputs": [],
   "execution_count": 21
  },
  {
   "metadata": {
    "ExecuteTime": {
     "end_time": "2025-05-15T18:22:00.189450Z",
     "start_time": "2025-05-15T18:22:00.147923Z"
    }
   },
   "cell_type": "code",
   "source": [
    "reservas = pl.read_csv(\"/Users/carlosm/Documents/MDS/4th Semester/Viusalizacion/PEC3/hotel_bookings.csv\", null_values=[\"NA\"])\n",
    "reservas = reservas.with_columns(\n",
    "    pl.concat_str(\n",
    "        pl.col(\"arrival_date_year\"),\n",
    "        pl.col(\"arrival_date_month\"),\n",
    "        pl.lit(1),\n",
    "        separator=\"-\"\n",
    "    ).str.strptime(pl.Date, \"%Y-%B-%d\").alias(\"arrival_date\")\n",
    ")"
   ],
   "id": "183871a290cf9977",
   "outputs": [],
   "execution_count": 80
  },
  {
   "metadata": {
    "ExecuteTime": {
     "end_time": "2025-05-15T18:22:04.221290Z",
     "start_time": "2025-05-15T18:22:04.211960Z"
    }
   },
   "cell_type": "code",
   "source": [
    "reservas_por_mes = (\n",
    "    reservas\n",
    "        .filter(pl.col(\"is_canceled\") == 0)\n",
    "        .select(\"arrival_date\", \"hotel\", \"adr\", \"arrival_date_month\", \"country\", \"adults\", \"children\", \"is_canceled\")\n",
    ")\n",
    "reservas_por_mes"
   ],
   "id": "2e6085edf58227da",
   "outputs": [
    {
     "data": {
      "text/plain": [
       "shape: (75_166, 8)\n",
       "┌──────────────┬──────────────┬────────┬───────────────┬─────────┬────────┬──────────┬─────────────┐\n",
       "│ arrival_date ┆ hotel        ┆ adr    ┆ arrival_date_ ┆ country ┆ adults ┆ children ┆ is_canceled │\n",
       "│ ---          ┆ ---          ┆ ---    ┆ month         ┆ ---     ┆ ---    ┆ ---      ┆ ---         │\n",
       "│ date         ┆ str          ┆ f64    ┆ ---           ┆ str     ┆ i64    ┆ i64      ┆ i64         │\n",
       "│              ┆              ┆        ┆ str           ┆         ┆        ┆          ┆             │\n",
       "╞══════════════╪══════════════╪════════╪═══════════════╪═════════╪════════╪══════════╪═════════════╡\n",
       "│ 2015-07-01   ┆ Resort Hotel ┆ 0.0    ┆ July          ┆ PRT     ┆ 2      ┆ 0        ┆ 0           │\n",
       "│ 2015-07-01   ┆ Resort Hotel ┆ 0.0    ┆ July          ┆ PRT     ┆ 2      ┆ 0        ┆ 0           │\n",
       "│ 2015-07-01   ┆ Resort Hotel ┆ 75.0   ┆ July          ┆ GBR     ┆ 1      ┆ 0        ┆ 0           │\n",
       "│ 2015-07-01   ┆ Resort Hotel ┆ 75.0   ┆ July          ┆ GBR     ┆ 1      ┆ 0        ┆ 0           │\n",
       "│ 2015-07-01   ┆ Resort Hotel ┆ 98.0   ┆ July          ┆ GBR     ┆ 2      ┆ 0        ┆ 0           │\n",
       "│ …            ┆ …            ┆ …      ┆ …             ┆ …       ┆ …      ┆ …        ┆ …           │\n",
       "│ 2017-08-01   ┆ City Hotel   ┆ 96.14  ┆ August        ┆ BEL     ┆ 2      ┆ 0        ┆ 0           │\n",
       "│ 2017-08-01   ┆ City Hotel   ┆ 225.43 ┆ August        ┆ FRA     ┆ 3      ┆ 0        ┆ 0           │\n",
       "│ 2017-08-01   ┆ City Hotel   ┆ 157.71 ┆ August        ┆ DEU     ┆ 2      ┆ 0        ┆ 0           │\n",
       "│ 2017-08-01   ┆ City Hotel   ┆ 104.4  ┆ August        ┆ GBR     ┆ 2      ┆ 0        ┆ 0           │\n",
       "│ 2017-08-01   ┆ City Hotel   ┆ 151.2  ┆ August        ┆ DEU     ┆ 2      ┆ 0        ┆ 0           │\n",
       "└──────────────┴──────────────┴────────┴───────────────┴─────────┴────────┴──────────┴─────────────┘"
      ],
      "text/html": [
       "<div><style>\n",
       ".dataframe > thead > tr,\n",
       ".dataframe > tbody > tr {\n",
       "  text-align: right;\n",
       "  white-space: pre-wrap;\n",
       "}\n",
       "</style>\n",
       "<small>shape: (75_166, 8)</small><table border=\"1\" class=\"dataframe\"><thead><tr><th>arrival_date</th><th>hotel</th><th>adr</th><th>arrival_date_month</th><th>country</th><th>adults</th><th>children</th><th>is_canceled</th></tr><tr><td>date</td><td>str</td><td>f64</td><td>str</td><td>str</td><td>i64</td><td>i64</td><td>i64</td></tr></thead><tbody><tr><td>2015-07-01</td><td>&quot;Resort Hotel&quot;</td><td>0.0</td><td>&quot;July&quot;</td><td>&quot;PRT&quot;</td><td>2</td><td>0</td><td>0</td></tr><tr><td>2015-07-01</td><td>&quot;Resort Hotel&quot;</td><td>0.0</td><td>&quot;July&quot;</td><td>&quot;PRT&quot;</td><td>2</td><td>0</td><td>0</td></tr><tr><td>2015-07-01</td><td>&quot;Resort Hotel&quot;</td><td>75.0</td><td>&quot;July&quot;</td><td>&quot;GBR&quot;</td><td>1</td><td>0</td><td>0</td></tr><tr><td>2015-07-01</td><td>&quot;Resort Hotel&quot;</td><td>75.0</td><td>&quot;July&quot;</td><td>&quot;GBR&quot;</td><td>1</td><td>0</td><td>0</td></tr><tr><td>2015-07-01</td><td>&quot;Resort Hotel&quot;</td><td>98.0</td><td>&quot;July&quot;</td><td>&quot;GBR&quot;</td><td>2</td><td>0</td><td>0</td></tr><tr><td>&hellip;</td><td>&hellip;</td><td>&hellip;</td><td>&hellip;</td><td>&hellip;</td><td>&hellip;</td><td>&hellip;</td><td>&hellip;</td></tr><tr><td>2017-08-01</td><td>&quot;City Hotel&quot;</td><td>96.14</td><td>&quot;August&quot;</td><td>&quot;BEL&quot;</td><td>2</td><td>0</td><td>0</td></tr><tr><td>2017-08-01</td><td>&quot;City Hotel&quot;</td><td>225.43</td><td>&quot;August&quot;</td><td>&quot;FRA&quot;</td><td>3</td><td>0</td><td>0</td></tr><tr><td>2017-08-01</td><td>&quot;City Hotel&quot;</td><td>157.71</td><td>&quot;August&quot;</td><td>&quot;DEU&quot;</td><td>2</td><td>0</td><td>0</td></tr><tr><td>2017-08-01</td><td>&quot;City Hotel&quot;</td><td>104.4</td><td>&quot;August&quot;</td><td>&quot;GBR&quot;</td><td>2</td><td>0</td><td>0</td></tr><tr><td>2017-08-01</td><td>&quot;City Hotel&quot;</td><td>151.2</td><td>&quot;August&quot;</td><td>&quot;DEU&quot;</td><td>2</td><td>0</td><td>0</td></tr></tbody></table></div>"
      ]
     },
     "execution_count": 81,
     "metadata": {},
     "output_type": "execute_result"
    }
   ],
   "execution_count": 81
  },
  {
   "metadata": {
    "ExecuteTime": {
     "end_time": "2025-05-15T16:00:14.652519Z",
     "start_time": "2025-05-15T16:00:14.647238Z"
    }
   },
   "cell_type": "code",
   "source": [
    "numero_reservas_por_mes = (\n",
    "    reservas_por_mes\n",
    "    .group_by(\"arrival_date_month\", \"month\", \"hotel\")\n",
    "        .agg(pl.col(\"adr\").count())\n",
    "        .rename({\"adr\": \"count\"})\n",
    "        .sort(by=\"month\")\n",
    ")\n",
    "\n",
    "numero_reservas_por_mes\n"
   ],
   "id": "f4d72e700bd0ceb4",
   "outputs": [
    {
     "data": {
      "text/plain": [
       "shape: (24, 4)\n",
       "┌────────────────────┬───────┬──────────────┬───────┐\n",
       "│ arrival_date_month ┆ month ┆ hotel        ┆ count │\n",
       "│ ---                ┆ ---   ┆ ---          ┆ ---   │\n",
       "│ str                ┆ i8    ┆ str          ┆ u32   │\n",
       "╞════════════════════╪═══════╪══════════════╪═══════╡\n",
       "│ January            ┆ 1     ┆ Resort Hotel ┆ 1868  │\n",
       "│ January            ┆ 1     ┆ City Hotel   ┆ 2254  │\n",
       "│ February           ┆ 2     ┆ City Hotel   ┆ 3064  │\n",
       "│ February           ┆ 2     ┆ Resort Hotel ┆ 2308  │\n",
       "│ March              ┆ 3     ┆ Resort Hotel ┆ 2573  │\n",
       "│ …                  ┆ …     ┆ …            ┆ …     │\n",
       "│ October            ┆ 10    ┆ Resort Hotel ┆ 2577  │\n",
       "│ November           ┆ 11    ┆ City Hotel   ┆ 2696  │\n",
       "│ November           ┆ 11    ┆ Resort Hotel ┆ 1976  │\n",
       "│ December           ┆ 12    ┆ Resort Hotel ┆ 2017  │\n",
       "│ December           ┆ 12    ┆ City Hotel   ┆ 2392  │\n",
       "└────────────────────┴───────┴──────────────┴───────┘"
      ],
      "text/html": [
       "<div><style>\n",
       ".dataframe > thead > tr,\n",
       ".dataframe > tbody > tr {\n",
       "  text-align: right;\n",
       "  white-space: pre-wrap;\n",
       "}\n",
       "</style>\n",
       "<small>shape: (24, 4)</small><table border=\"1\" class=\"dataframe\"><thead><tr><th>arrival_date_month</th><th>month</th><th>hotel</th><th>count</th></tr><tr><td>str</td><td>i8</td><td>str</td><td>u32</td></tr></thead><tbody><tr><td>&quot;January&quot;</td><td>1</td><td>&quot;Resort Hotel&quot;</td><td>1868</td></tr><tr><td>&quot;January&quot;</td><td>1</td><td>&quot;City Hotel&quot;</td><td>2254</td></tr><tr><td>&quot;February&quot;</td><td>2</td><td>&quot;City Hotel&quot;</td><td>3064</td></tr><tr><td>&quot;February&quot;</td><td>2</td><td>&quot;Resort Hotel&quot;</td><td>2308</td></tr><tr><td>&quot;March&quot;</td><td>3</td><td>&quot;Resort Hotel&quot;</td><td>2573</td></tr><tr><td>&hellip;</td><td>&hellip;</td><td>&hellip;</td><td>&hellip;</td></tr><tr><td>&quot;October&quot;</td><td>10</td><td>&quot;Resort Hotel&quot;</td><td>2577</td></tr><tr><td>&quot;November&quot;</td><td>11</td><td>&quot;City Hotel&quot;</td><td>2696</td></tr><tr><td>&quot;November&quot;</td><td>11</td><td>&quot;Resort Hotel&quot;</td><td>1976</td></tr><tr><td>&quot;December&quot;</td><td>12</td><td>&quot;Resort Hotel&quot;</td><td>2017</td></tr><tr><td>&quot;December&quot;</td><td>12</td><td>&quot;City Hotel&quot;</td><td>2392</td></tr></tbody></table></div>"
      ]
     },
     "execution_count": 5,
     "metadata": {},
     "output_type": "execute_result"
    }
   ],
   "execution_count": 5
  },
  {
   "metadata": {
    "ExecuteTime": {
     "end_time": "2025-05-15T16:00:14.719621Z",
     "start_time": "2025-05-15T16:00:14.667178Z"
    }
   },
   "cell_type": "code",
   "source": [
    "fig = px.bar(numero_reservas_por_mes, x=\"arrival_date_month\", y=\"count\", color=\"hotel\", title=\"Cantidad de reservas sin cancelación por mes (2015 - 2017)\", opacity=0.6, labels={\"hotel\": \"Hotel\", \"arrival_date_month\": \"Mes de llegada\", \"count\": \"Cantidad de reservas\"})\n",
    "fig.show()"
   ],
   "id": "97000d57247f5c26",
   "outputs": [
    {
     "data": {
      "text/html": [
       "<iframe style=\"color-scheme: none;\"\n",
       "    scrolling=\"no\"\n",
       "    width=\"100%\"\n",
       "    height=\"545px\"\n",
       "    src=\"../assets/notebooks/html_dfb05850-fc13-4e43-8096-c57b40879e8d/figure_6.html\"\n",
       "    frameborder=\"0\"\n",
       "    allowfullscreen\n",
       "></iframe>\n"
      ]
     },
     "metadata": {},
     "output_type": "display_data"
    }
   ],
   "execution_count": 6
  },
  {
   "metadata": {},
   "cell_type": "markdown",
   "source": "Al parecer, los meses donde más reservaciones hay son Julio y Agosto, tanto para el Hotel Urbano como para el Hotel Resort. No es nada nuevo, puesto que son normalmente los meses de verano donde más personas salen a vacacionar. Sin embargo, algo que sorprende son los números de reservas para el mes de Junio, ya que son pocas en comparación con el increible clima que hace en este mes. Los primeros días de Septiembre, si bien no acostumbra a ser extremadamente soleado, no esta nada mal para tomarse unas vacaciones. Por lo general, los primeros cuatro meses del año y los últimos tres, no tienen el mejor clima, por eso no es de sorprendernos que sus números no sean tan altos. Por otro lado, sería interesante ver las nacionalidades de los turistas que vistan estos hoteles, miremos:",
   "id": "a7fe69bbebdcf783"
  },
  {
   "metadata": {
    "ExecuteTime": {
     "end_time": "2025-05-15T16:00:14.736434Z",
     "start_time": "2025-05-15T16:00:14.730888Z"
    }
   },
   "cell_type": "code",
   "source": [
    "nacionalidades_reservas = (\n",
    "    reservas_por_mes.select(\"country\", \"hotel\", \"adr\")\n",
    "        .group_by([\"country\", \"hotel\"])\n",
    "        .agg(pl.col(\"adr\").count())\n",
    "        .rename({\"adr\": \"count\"})\n",
    "        .sort(by=\"count\", descending=True)\n",
    ")\n",
    "nacionalidades_reservas"
   ],
   "id": "91fe9a6e35e1ff4",
   "outputs": [
    {
     "data": {
      "text/plain": [
       "shape: (270, 3)\n",
       "┌─────────┬──────────────┬───────┐\n",
       "│ country ┆ hotel        ┆ count │\n",
       "│ ---     ┆ ---          ┆ ---   │\n",
       "│ str     ┆ str          ┆ u32   │\n",
       "╞═════════╪══════════════╪═══════╡\n",
       "│ PRT     ┆ City Hotel   ┆ 10879 │\n",
       "│ PRT     ┆ Resort Hotel ┆ 10192 │\n",
       "│ FRA     ┆ City Hotel   ┆ 7081  │\n",
       "│ GBR     ┆ Resort Hotel ┆ 5923  │\n",
       "│ DEU     ┆ City Hotel   ┆ 5012  │\n",
       "│ …       ┆ …            ┆ …     │\n",
       "│ ZMB     ┆ Resort Hotel ┆ 1     │\n",
       "│ CYM     ┆ Resort Hotel ┆ 1     │\n",
       "│ EGY     ┆ Resort Hotel ┆ 1     │\n",
       "│ MRT     ┆ City Hotel   ┆ 1     │\n",
       "│ COM     ┆ Resort Hotel ┆ 1     │\n",
       "└─────────┴──────────────┴───────┘"
      ],
      "text/html": [
       "<div><style>\n",
       ".dataframe > thead > tr,\n",
       ".dataframe > tbody > tr {\n",
       "  text-align: right;\n",
       "  white-space: pre-wrap;\n",
       "}\n",
       "</style>\n",
       "<small>shape: (270, 3)</small><table border=\"1\" class=\"dataframe\"><thead><tr><th>country</th><th>hotel</th><th>count</th></tr><tr><td>str</td><td>str</td><td>u32</td></tr></thead><tbody><tr><td>&quot;PRT&quot;</td><td>&quot;City Hotel&quot;</td><td>10879</td></tr><tr><td>&quot;PRT&quot;</td><td>&quot;Resort Hotel&quot;</td><td>10192</td></tr><tr><td>&quot;FRA&quot;</td><td>&quot;City Hotel&quot;</td><td>7081</td></tr><tr><td>&quot;GBR&quot;</td><td>&quot;Resort Hotel&quot;</td><td>5923</td></tr><tr><td>&quot;DEU&quot;</td><td>&quot;City Hotel&quot;</td><td>5012</td></tr><tr><td>&hellip;</td><td>&hellip;</td><td>&hellip;</td></tr><tr><td>&quot;ZMB&quot;</td><td>&quot;Resort Hotel&quot;</td><td>1</td></tr><tr><td>&quot;CYM&quot;</td><td>&quot;Resort Hotel&quot;</td><td>1</td></tr><tr><td>&quot;EGY&quot;</td><td>&quot;Resort Hotel&quot;</td><td>1</td></tr><tr><td>&quot;MRT&quot;</td><td>&quot;City Hotel&quot;</td><td>1</td></tr><tr><td>&quot;COM&quot;</td><td>&quot;Resort Hotel&quot;</td><td>1</td></tr></tbody></table></div>"
      ]
     },
     "execution_count": 7,
     "metadata": {},
     "output_type": "execute_result"
    }
   ],
   "execution_count": 7
  },
  {
   "metadata": {
    "ExecuteTime": {
     "end_time": "2025-05-15T16:00:14.796828Z",
     "start_time": "2025-05-15T16:00:14.752815Z"
    }
   },
   "cell_type": "code",
   "source": [
    "fig = px.bar(nacionalidades_reservas, x=\"country\", y=\"count\", color=\"hotel\", title=\"Cantidad de reservaciones no cancelandas por país de origen (2015 - 2017)\", opacity=0.6, labels={\"hotel\": \"Hotel\", \"country\": \"País\", \"count\": \"Cantidad de reservas\"})\n",
    "fig.show()"
   ],
   "id": "8b75273dc2bab9b4",
   "outputs": [
    {
     "data": {
      "text/html": [
       "<iframe style=\"color-scheme: none;\"\n",
       "    scrolling=\"no\"\n",
       "    width=\"100%\"\n",
       "    height=\"545px\"\n",
       "    src=\"../assets/notebooks/html_dfb05850-fc13-4e43-8096-c57b40879e8d/figure_8.html\"\n",
       "    frameborder=\"0\"\n",
       "    allowfullscreen\n",
       "></iframe>\n"
      ]
     },
     "metadata": {},
     "output_type": "display_data"
    }
   ],
   "execution_count": 8
  },
  {
   "metadata": {},
   "cell_type": "markdown",
   "source": "Vemos que tenemos muchos paises (178 para ser exactos) desde donde proceden las personas que han hecho las reservas. Tiene sentido que Portugal sea el país desde donde más se hacen reservas a Lisboa, seguido de los paises cercanos como España, Francia, Italia y Reino Unido, este último al igual que Irlanda parecen preferir el hotel de tipo resort en lugar del hotel urbano. Por el contrario, los tres primeros paises mencionados anteriormente prefieren visitar el Hotel Urbano, al igual que Alemania. Sería interesante conocer de que paises serían los turistas que nos pudieramos encontrar en Lisboa, en caso de que viajaramos en Junio o Septiembre (que como ya vimos, son los mejores meses para viajar), en caso de que nos hospedemos en alguno de los dos hoteles. Quizá podamos hacer amigos mientras viajamos, miremos qué nos dicen los datos:",
   "id": "c672fe784bd39af9"
  },
  {
   "metadata": {
    "ExecuteTime": {
     "end_time": "2025-05-15T16:00:14.815775Z",
     "start_time": "2025-05-15T16:00:14.807906Z"
    }
   },
   "cell_type": "code",
   "source": [
    "nacionalidad_reservas_mes = (\n",
    "    reservas_por_mes\n",
    "    .filter(pl.col(\"arrival_date_month\").is_in([\"June\", \"September\"]))\n",
    "    .group_by(\"arrival_date_month\", \"country\", \"hotel\")\n",
    "    .agg(pl.col(\"adr\").count(), pl.col(\"adults\").sum(), pl.col(\"children\").sum())\n",
    "    .rename({\"adr\": \"count\"})\n",
    "    .filter(pl.col(\"count\") > 50)\n",
    "    .sort(by=[\"arrival_date_month\", \"count\"], descending=True)\n",
    ")\n",
    "nacionalidad_reservas_mes = nacionalidad_reservas_mes.with_columns(\n",
    "    total_people=(pl.col(\"adults\") + pl.col(\"children\"))\n",
    ")\n",
    "nacionalidad_reservas_mes\n",
    "#reservas_por_mes"
   ],
   "id": "c73266a8ad1e1f51",
   "outputs": [
    {
     "data": {
      "text/plain": [
       "shape: (43, 7)\n",
       "┌────────────────────┬─────────┬──────────────┬───────┬────────┬──────────┬──────────────┐\n",
       "│ arrival_date_month ┆ country ┆ hotel        ┆ count ┆ adults ┆ children ┆ total_people │\n",
       "│ ---                ┆ ---     ┆ ---          ┆ ---   ┆ ---    ┆ ---      ┆ ---          │\n",
       "│ str                ┆ str     ┆ str          ┆ u32   ┆ i64    ┆ i64      ┆ i64          │\n",
       "╞════════════════════╪═════════╪══════════════╪═══════╪════════╪══════════╪══════════════╡\n",
       "│ September          ┆ PRT     ┆ City Hotel   ┆ 1196  ┆ 2005   ┆ 57       ┆ 2062         │\n",
       "│ September          ┆ GBR     ┆ Resort Hotel ┆ 568   ┆ 1089   ┆ 26       ┆ 1115         │\n",
       "│ September          ┆ FRA     ┆ City Hotel   ┆ 519   ┆ 943    ┆ 11       ┆ 954          │\n",
       "│ September          ┆ DEU     ┆ City Hotel   ┆ 447   ┆ 826    ┆ 17       ┆ 843          │\n",
       "│ September          ┆ PRT     ┆ Resort Hotel ┆ 430   ┆ 797    ┆ 40       ┆ 837          │\n",
       "│ …                  ┆ …       ┆ …            ┆ …     ┆ …      ┆ …        ┆ …            │\n",
       "│ June               ┆ SWE     ┆ City Hotel   ┆ 68    ┆ 128    ┆ 15       ┆ 143          │\n",
       "│ June               ┆ SRB     ┆ City Hotel   ┆ 68    ┆ 74     ┆ 0        ┆ 74           │\n",
       "│ June               ┆ DEU     ┆ Resort Hotel ┆ 56    ┆ 107    ┆ 2        ┆ 109          │\n",
       "│ June               ┆ FRA     ┆ Resort Hotel ┆ 54    ┆ 105    ┆ 10       ┆ 115          │\n",
       "│ June               ┆ POL     ┆ Resort Hotel ┆ 51    ┆ 100    ┆ 3        ┆ 103          │\n",
       "└────────────────────┴─────────┴──────────────┴───────┴────────┴──────────┴──────────────┘"
      ],
      "text/html": [
       "<div><style>\n",
       ".dataframe > thead > tr,\n",
       ".dataframe > tbody > tr {\n",
       "  text-align: right;\n",
       "  white-space: pre-wrap;\n",
       "}\n",
       "</style>\n",
       "<small>shape: (43, 7)</small><table border=\"1\" class=\"dataframe\"><thead><tr><th>arrival_date_month</th><th>country</th><th>hotel</th><th>count</th><th>adults</th><th>children</th><th>total_people</th></tr><tr><td>str</td><td>str</td><td>str</td><td>u32</td><td>i64</td><td>i64</td><td>i64</td></tr></thead><tbody><tr><td>&quot;September&quot;</td><td>&quot;PRT&quot;</td><td>&quot;City Hotel&quot;</td><td>1196</td><td>2005</td><td>57</td><td>2062</td></tr><tr><td>&quot;September&quot;</td><td>&quot;GBR&quot;</td><td>&quot;Resort Hotel&quot;</td><td>568</td><td>1089</td><td>26</td><td>1115</td></tr><tr><td>&quot;September&quot;</td><td>&quot;FRA&quot;</td><td>&quot;City Hotel&quot;</td><td>519</td><td>943</td><td>11</td><td>954</td></tr><tr><td>&quot;September&quot;</td><td>&quot;DEU&quot;</td><td>&quot;City Hotel&quot;</td><td>447</td><td>826</td><td>17</td><td>843</td></tr><tr><td>&quot;September&quot;</td><td>&quot;PRT&quot;</td><td>&quot;Resort Hotel&quot;</td><td>430</td><td>797</td><td>40</td><td>837</td></tr><tr><td>&hellip;</td><td>&hellip;</td><td>&hellip;</td><td>&hellip;</td><td>&hellip;</td><td>&hellip;</td><td>&hellip;</td></tr><tr><td>&quot;June&quot;</td><td>&quot;SWE&quot;</td><td>&quot;City Hotel&quot;</td><td>68</td><td>128</td><td>15</td><td>143</td></tr><tr><td>&quot;June&quot;</td><td>&quot;SRB&quot;</td><td>&quot;City Hotel&quot;</td><td>68</td><td>74</td><td>0</td><td>74</td></tr><tr><td>&quot;June&quot;</td><td>&quot;DEU&quot;</td><td>&quot;Resort Hotel&quot;</td><td>56</td><td>107</td><td>2</td><td>109</td></tr><tr><td>&quot;June&quot;</td><td>&quot;FRA&quot;</td><td>&quot;Resort Hotel&quot;</td><td>54</td><td>105</td><td>10</td><td>115</td></tr><tr><td>&quot;June&quot;</td><td>&quot;POL&quot;</td><td>&quot;Resort Hotel&quot;</td><td>51</td><td>100</td><td>3</td><td>103</td></tr></tbody></table></div>"
      ]
     },
     "execution_count": 9,
     "metadata": {},
     "output_type": "execute_result"
    }
   ],
   "execution_count": 9
  },
  {
   "metadata": {
    "ExecuteTime": {
     "end_time": "2025-05-15T16:00:14.917110Z",
     "start_time": "2025-05-15T16:00:14.827471Z"
    }
   },
   "cell_type": "code",
   "source": [
    "fig = px.treemap(\n",
    "    nacionalidad_reservas_mes,\n",
    "    path=[px.Constant(\"Months\"), 'arrival_date_month', \"hotel\", 'country'],\n",
    "    values='total_people',\n",
    "    color='total_people',\n",
    "    color_continuous_scale='RdBu_r',\n",
    "    color_continuous_midpoint=np.average(\n",
    "        (nacionalidad_reservas_mes.select('total_people').get_column(\"total_people\")).to_list()\n",
    "    ),\n",
    "    title=\"Cantidad de personas por país y tipo de hotel en los meses de Junio y Septiembre (2015 - 2017), incluyendo adultos y niños (no bebés).\",\n",
    "    labels={\"total_people\": \"Total Personas\"},\n",
    ")\n",
    "fig.update_layout(margin=dict(t=50, l=25, r=25, b=25))\n",
    "fig.update_traces(\n",
    "    marker=dict(cornerradius=5),\n",
    "    hovertemplate='<b>%{label} </b> <br> Total personas: %{value:,}'\n",
    ")\n",
    "fig.show()"
   ],
   "id": "b47b3e94cd597843",
   "outputs": [
    {
     "data": {
      "text/html": [
       "<iframe style=\"color-scheme: none;\"\n",
       "    scrolling=\"no\"\n",
       "    width=\"100%\"\n",
       "    height=\"545px\"\n",
       "    src=\"../assets/notebooks/html_dfb05850-fc13-4e43-8096-c57b40879e8d/figure_10.html\"\n",
       "    frameborder=\"0\"\n",
       "    allowfullscreen\n",
       "></iframe>\n"
      ]
     },
     "metadata": {},
     "output_type": "display_data"
    }
   ],
   "execution_count": 10
  },
  {
   "metadata": {},
   "cell_type": "markdown",
   "source": [
    "El anterior gráfico de árbol nos muestra la cantidad de personas por nacionalidad que podemos encontrarnos, sea que vayamos en Junio o en Septiembre y sea que nos quedemos en el hotel tipo resort o en el hotel urbano. Puedes pasar el cursor por encima de cada cuadro para obtener el total de personas de cada nacionalidad, también hacer clic por ejemplo en el hotel urbano del mes de Junio, para navegar directamente a esta información.\n",
    "\n",
    "Vemos que si nos hospedamos en el hotel de tipo resort en cualquiera de los dos meses, tenemos muchas más chances de encontrarnos Británicos que Portugueses. Por el contrario, en el hotel urbano nos encontraremos en mayor medida con Portugueses, Alemanes y Frances. En Septiembre podriamos encontrarnos con algún Español en el hotel urbano. Parece ser que los Británicos tienden a preferir el hotel de tipo resort.\n",
    "\n",
    "Del anterior gráfico tambien podemos observar que habrá un poco más de turistas en Junio que en Septiembre, sin embargo, será el hotel urbano quién tendrá mas cantidad de personas sin importar el mes. Por lo tanto, si tu plan es relajarte en un hotel cercano a la playa y no tanto salir a conocer la ciudad llena de turistas, sería un excelente plan ir al resort cerca del mar en Junio ya que habrán menos personas, y si hablas Inglés, podrías aprovechar que la mayoría de ellos serán Británicos."
   ],
   "id": "52b66f3a0448214f"
  },
  {
   "metadata": {},
   "cell_type": "markdown",
   "source": "### ¡Atentos a las cancelaciones!",
   "id": "14cfd463953b9e34"
  },
  {
   "metadata": {},
   "cell_type": "markdown",
   "source": "Ya vimos que Junio y Septiembre pueden ser los mejores meses para viajar si es que estás buscando un equilibrio entre clima y cantidad de turistas, pero quizá no te importe mucho esto último. Quizá lo más importante para tí sea viajar en los meses de verano, pero no siempre es posible reservar a tiempo y los mejores meses son los primeros en irse. Que tal si miramos la taza de cancelaciones por mes para mirar si, de no poder reservar a tiempo, tenemos algún chance de coger alguna reserva cancelada e irnos de vacaciones a Lisboa.",
   "id": "1dfc95c4207c12e3"
  },
  {
   "metadata": {
    "ExecuteTime": {
     "end_time": "2025-05-15T18:23:44.511780Z",
     "start_time": "2025-05-15T18:23:44.504110Z"
    }
   },
   "cell_type": "code",
   "source": [
    "reservas_canceladas = (\n",
    "    reservas\n",
    "        .select(\n",
    "            \"arrival_date_month\",\n",
    "            \"hotel\",\n",
    "            \"country\",\n",
    "            pl.col(\"arrival_date\").dt.month().alias(\"month\"),\n",
    "            pl.when(pl.col.is_canceled == 1).then(pl.lit(\"Si\")).otherwise(pl.lit(\"No\")).alias(\"is_canceled\"),\n",
    "        )\n",
    ")\n",
    "reservas_canceladas\n",
    "#total = reservas_canceladas.select(\"is_canceled\").count()"
   ],
   "id": "6ce71923a5efdf35",
   "outputs": [
    {
     "data": {
      "text/plain": [
       "shape: (119_390, 5)\n",
       "┌────────────────────┬──────────────┬─────────┬───────┬─────────────┐\n",
       "│ arrival_date_month ┆ hotel        ┆ country ┆ month ┆ is_canceled │\n",
       "│ ---                ┆ ---          ┆ ---     ┆ ---   ┆ ---         │\n",
       "│ str                ┆ str          ┆ str     ┆ i8    ┆ str         │\n",
       "╞════════════════════╪══════════════╪═════════╪═══════╪═════════════╡\n",
       "│ July               ┆ Resort Hotel ┆ PRT     ┆ 7     ┆ No          │\n",
       "│ July               ┆ Resort Hotel ┆ PRT     ┆ 7     ┆ No          │\n",
       "│ July               ┆ Resort Hotel ┆ GBR     ┆ 7     ┆ No          │\n",
       "│ July               ┆ Resort Hotel ┆ GBR     ┆ 7     ┆ No          │\n",
       "│ July               ┆ Resort Hotel ┆ GBR     ┆ 7     ┆ No          │\n",
       "│ …                  ┆ …            ┆ …       ┆ …     ┆ …           │\n",
       "│ August             ┆ City Hotel   ┆ BEL     ┆ 8     ┆ No          │\n",
       "│ August             ┆ City Hotel   ┆ FRA     ┆ 8     ┆ No          │\n",
       "│ August             ┆ City Hotel   ┆ DEU     ┆ 8     ┆ No          │\n",
       "│ August             ┆ City Hotel   ┆ GBR     ┆ 8     ┆ No          │\n",
       "│ August             ┆ City Hotel   ┆ DEU     ┆ 8     ┆ No          │\n",
       "└────────────────────┴──────────────┴─────────┴───────┴─────────────┘"
      ],
      "text/html": [
       "<div><style>\n",
       ".dataframe > thead > tr,\n",
       ".dataframe > tbody > tr {\n",
       "  text-align: right;\n",
       "  white-space: pre-wrap;\n",
       "}\n",
       "</style>\n",
       "<small>shape: (119_390, 5)</small><table border=\"1\" class=\"dataframe\"><thead><tr><th>arrival_date_month</th><th>hotel</th><th>country</th><th>month</th><th>is_canceled</th></tr><tr><td>str</td><td>str</td><td>str</td><td>i8</td><td>str</td></tr></thead><tbody><tr><td>&quot;July&quot;</td><td>&quot;Resort Hotel&quot;</td><td>&quot;PRT&quot;</td><td>7</td><td>&quot;No&quot;</td></tr><tr><td>&quot;July&quot;</td><td>&quot;Resort Hotel&quot;</td><td>&quot;PRT&quot;</td><td>7</td><td>&quot;No&quot;</td></tr><tr><td>&quot;July&quot;</td><td>&quot;Resort Hotel&quot;</td><td>&quot;GBR&quot;</td><td>7</td><td>&quot;No&quot;</td></tr><tr><td>&quot;July&quot;</td><td>&quot;Resort Hotel&quot;</td><td>&quot;GBR&quot;</td><td>7</td><td>&quot;No&quot;</td></tr><tr><td>&quot;July&quot;</td><td>&quot;Resort Hotel&quot;</td><td>&quot;GBR&quot;</td><td>7</td><td>&quot;No&quot;</td></tr><tr><td>&hellip;</td><td>&hellip;</td><td>&hellip;</td><td>&hellip;</td><td>&hellip;</td></tr><tr><td>&quot;August&quot;</td><td>&quot;City Hotel&quot;</td><td>&quot;BEL&quot;</td><td>8</td><td>&quot;No&quot;</td></tr><tr><td>&quot;August&quot;</td><td>&quot;City Hotel&quot;</td><td>&quot;FRA&quot;</td><td>8</td><td>&quot;No&quot;</td></tr><tr><td>&quot;August&quot;</td><td>&quot;City Hotel&quot;</td><td>&quot;DEU&quot;</td><td>8</td><td>&quot;No&quot;</td></tr><tr><td>&quot;August&quot;</td><td>&quot;City Hotel&quot;</td><td>&quot;GBR&quot;</td><td>8</td><td>&quot;No&quot;</td></tr><tr><td>&quot;August&quot;</td><td>&quot;City Hotel&quot;</td><td>&quot;DEU&quot;</td><td>8</td><td>&quot;No&quot;</td></tr></tbody></table></div>"
      ]
     },
     "execution_count": 86,
     "metadata": {},
     "output_type": "execute_result"
    }
   ],
   "execution_count": 86
  },
  {
   "metadata": {
    "ExecuteTime": {
     "end_time": "2025-05-15T18:23:53.682127Z",
     "start_time": "2025-05-15T18:23:53.672870Z"
    }
   },
   "cell_type": "code",
   "source": [
    "reservas_canceladas_por_mes = (\n",
    "    reservas_canceladas\n",
    "        .group_by(\"arrival_date_month\", \"month\", \"hotel\", \"is_canceled\")\n",
    "        .agg(pl.col(\"country\").count())\n",
    "        .rename({\"country\": \"count\"})\n",
    "        .sort(by=\"month\")\n",
    ")\n",
    "reservas_canceladas_por_mes"
   ],
   "id": "1182a14ead684174",
   "outputs": [
    {
     "data": {
      "text/plain": [
       "shape: (48, 5)\n",
       "┌────────────────────┬───────┬──────────────┬─────────────┬───────┐\n",
       "│ arrival_date_month ┆ month ┆ hotel        ┆ is_canceled ┆ count │\n",
       "│ ---                ┆ ---   ┆ ---          ┆ ---         ┆ ---   │\n",
       "│ str                ┆ i8    ┆ str          ┆ str         ┆ u32   │\n",
       "╞════════════════════╪═══════╪══════════════╪═════════════╪═══════╡\n",
       "│ January            ┆ 1     ┆ City Hotel   ┆ Si          ┆ 1482  │\n",
       "│ January            ┆ 1     ┆ Resort Hotel ┆ Si          ┆ 325   │\n",
       "│ January            ┆ 1     ┆ Resort Hotel ┆ No          ┆ 1868  │\n",
       "│ January            ┆ 1     ┆ City Hotel   ┆ No          ┆ 2254  │\n",
       "│ February           ┆ 2     ┆ Resort Hotel ┆ Si          ┆ 795   │\n",
       "│ …                  ┆ …     ┆ …            ┆ …           ┆ …     │\n",
       "│ November           ┆ 11    ┆ City Hotel   ┆ Si          ┆ 1661  │\n",
       "│ December           ┆ 12    ┆ Resort Hotel ┆ Si          ┆ 631   │\n",
       "│ December           ┆ 12    ┆ City Hotel   ┆ Si          ┆ 1740  │\n",
       "│ December           ┆ 12    ┆ City Hotel   ┆ No          ┆ 2392  │\n",
       "│ December           ┆ 12    ┆ Resort Hotel ┆ No          ┆ 2017  │\n",
       "└────────────────────┴───────┴──────────────┴─────────────┴───────┘"
      ],
      "text/html": [
       "<div><style>\n",
       ".dataframe > thead > tr,\n",
       ".dataframe > tbody > tr {\n",
       "  text-align: right;\n",
       "  white-space: pre-wrap;\n",
       "}\n",
       "</style>\n",
       "<small>shape: (48, 5)</small><table border=\"1\" class=\"dataframe\"><thead><tr><th>arrival_date_month</th><th>month</th><th>hotel</th><th>is_canceled</th><th>count</th></tr><tr><td>str</td><td>i8</td><td>str</td><td>str</td><td>u32</td></tr></thead><tbody><tr><td>&quot;January&quot;</td><td>1</td><td>&quot;City Hotel&quot;</td><td>&quot;Si&quot;</td><td>1482</td></tr><tr><td>&quot;January&quot;</td><td>1</td><td>&quot;Resort Hotel&quot;</td><td>&quot;Si&quot;</td><td>325</td></tr><tr><td>&quot;January&quot;</td><td>1</td><td>&quot;Resort Hotel&quot;</td><td>&quot;No&quot;</td><td>1868</td></tr><tr><td>&quot;January&quot;</td><td>1</td><td>&quot;City Hotel&quot;</td><td>&quot;No&quot;</td><td>2254</td></tr><tr><td>&quot;February&quot;</td><td>2</td><td>&quot;Resort Hotel&quot;</td><td>&quot;Si&quot;</td><td>795</td></tr><tr><td>&hellip;</td><td>&hellip;</td><td>&hellip;</td><td>&hellip;</td><td>&hellip;</td></tr><tr><td>&quot;November&quot;</td><td>11</td><td>&quot;City Hotel&quot;</td><td>&quot;Si&quot;</td><td>1661</td></tr><tr><td>&quot;December&quot;</td><td>12</td><td>&quot;Resort Hotel&quot;</td><td>&quot;Si&quot;</td><td>631</td></tr><tr><td>&quot;December&quot;</td><td>12</td><td>&quot;City Hotel&quot;</td><td>&quot;Si&quot;</td><td>1740</td></tr><tr><td>&quot;December&quot;</td><td>12</td><td>&quot;City Hotel&quot;</td><td>&quot;No&quot;</td><td>2392</td></tr><tr><td>&quot;December&quot;</td><td>12</td><td>&quot;Resort Hotel&quot;</td><td>&quot;No&quot;</td><td>2017</td></tr></tbody></table></div>"
      ]
     },
     "execution_count": 87,
     "metadata": {},
     "output_type": "execute_result"
    }
   ],
   "execution_count": 87
  },
  {
   "metadata": {
    "ExecuteTime": {
     "end_time": "2025-05-15T19:08:20.827811Z",
     "start_time": "2025-05-15T19:08:20.776785Z"
    }
   },
   "cell_type": "code",
   "source": [
    "fig = make_subplots(\n",
    "    rows=1, cols=2,\n",
    "    specs=[[{\"type\": \"sunburst\"}, {\"type\": \"sunburst\"}]],\n",
    "    subplot_titles=(\"Cancelaciones por mes: Hotel Resort\", \"Cancelaciones por mes: Hotel Urbano\")\n",
    ")\n",
    "for hotel_type, coord in [(\"Resort Hotel\", {\"row\": 1, \"col\": 1}), (\"City Hotel\", {\"row\": 1, \"col\": 2})]:\n",
    "    subplot = px.sunburst(\n",
    "        reservas_canceladas_por_mes.filter(pl.col(\"hotel\") == hotel_type).sort(by=\"month\"),\n",
    "        path=['hotel', 'arrival_date_month', \"is_canceled\"], values='count', color=\"arrival_date_month\",\n",
    "        color_discrete_sequence=[\"white\"]+px.colors.qualitative.Light24)\n",
    "    fig.add_trace(subplot.data[0], **coord)\n",
    "fig.update_layout(title_text=\"Total de cancelaciones por mes (2015 - 2017)\")\n",
    "fig.show()"
   ],
   "id": "418223e19af0488d",
   "outputs": [
    {
     "data": {
      "text/html": [
       "<iframe style=\"color-scheme: none;\"\n",
       "    scrolling=\"no\"\n",
       "    width=\"100%\"\n",
       "    height=\"545px\"\n",
       "    src=\"../assets/notebooks/html_dfb05850-fc13-4e43-8096-c57b40879e8d/figure_110.html\"\n",
       "    frameborder=\"0\"\n",
       "    allowfullscreen\n",
       "></iframe>\n"
      ]
     },
     "metadata": {},
     "output_type": "display_data"
    }
   ],
   "execution_count": 110
  },
  {
   "metadata": {
    "ExecuteTime": {
     "end_time": "2025-05-15T16:24:24.873010Z",
     "start_time": "2025-05-15T16:24:24.851472Z"
    }
   },
   "cell_type": "code",
   "source": [
    "x = ['1970-01-01', '1970-01-01', '1970-02-01', '1970-04-01', '1970-01-02',\n",
    "     '1972-01-31', '1970-02-13', '1971-04-19']\n",
    "fig = make_subplots(rows=3, cols=2)\n",
    "\n",
    "trace0 = go.Histogram(x=x, nbinsx=4)\n",
    "trace1 = go.Histogram(x=x, nbinsx = 8)\n",
    "trace2 = go.Histogram(x=x, nbinsx=10)\n",
    "trace3 = go.Histogram(x=x,\n",
    "                      xbins=dict(\n",
    "                      start='1969-11-15',\n",
    "                      end='1972-03-31',\n",
    "                      size='M18'), # M18 stands for 18 months\n",
    "                      autobinx=False\n",
    "                     )\n",
    "trace4 = go.Histogram(x=x,\n",
    "                      xbins=dict(\n",
    "                      start='1969-11-15',\n",
    "                      end='1972-03-31',\n",
    "                      size='M4'), # 4 months bin size\n",
    "                      autobinx=False\n",
    "                      )\n",
    "trace5 = go.Histogram(x=x,\n",
    "                      xbins=dict(\n",
    "                      start='1969-11-15',\n",
    "                      end='1972-03-31',\n",
    "                      size= 'M2'), # 2 months\n",
    "                      autobinx = False\n",
    "                      )\n",
    "\n",
    "fig.add_trace(trace0, 1, 1)\n",
    "fig.add_trace(trace1, 1, 2)\n",
    "fig.add_trace(trace2, 2, 1)\n",
    "fig.add_trace(trace3, 2, 2)\n",
    "fig.add_trace(trace4, 3, 1)\n",
    "fig.add_trace(trace5, 3, 2)\n",
    "\n",
    "fig.show()"
   ],
   "id": "4e637b49c53292d2",
   "outputs": [
    {
     "data": {
      "text/html": [
       "<iframe style=\"color-scheme: none;\"\n",
       "    scrolling=\"no\"\n",
       "    width=\"100%\"\n",
       "    height=\"545px\"\n",
       "    src=\"../assets/notebooks/html_dfb05850-fc13-4e43-8096-c57b40879e8d/figure_20.html\"\n",
       "    frameborder=\"0\"\n",
       "    allowfullscreen\n",
       "></iframe>\n"
      ]
     },
     "metadata": {},
     "output_type": "display_data"
    }
   ],
   "execution_count": 20
  }
 ],
 "metadata": {
  "kernelspec": {
   "display_name": "Python 3 (ipykernel)",
   "language": "python",
   "name": "python3"
  },
  "language_info": {
   "codemirror_mode": {
    "name": "ipython",
    "version": 3
   },
   "file_extension": ".py",
   "mimetype": "text/x-python",
   "name": "python",
   "nbconvert_exporter": "python",
   "pygments_lexer": "ipython3",
   "version": "3.10.12"
  },
  "colab": {
   "provenance": []
  }
 },
 "nbformat": 4,
 "nbformat_minor": 5
}
