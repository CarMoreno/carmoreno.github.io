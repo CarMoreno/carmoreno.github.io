{
 "cells": [
  {
   "cell_type": "markdown",
   "id": "e5cbf420",
   "metadata": {
    "id": "e5cbf420"
   },
   "source": [
    "---\n",
    "layout: post\n",
    "title: Data storytelling, visualizando datos sobre reservas de hoteles.\n",
    "date: 2025-05-11 10:49:19\n",
    "author: Carlos Andrés Moreno\n",
    "summary: En este artículo vamos a realizar un storytelling de un conjunto de datos de reservas de hoteles\n",
    "categories: Data\n",
    "thumbnail: plot\n",
    "tags:\n",
    "  - Data\n",
    "  - Python\n",
    "  - Plotly\n",
    "---"
   ]
  },
  {
   "cell_type": "markdown",
   "id": "aoZKebYBHCID",
   "metadata": {
    "id": "aoZKebYBHCID"
   },
   "source": [
    "# Introducción"
   ]
  },
  {
   "cell_type": "markdown",
   "id": "uKCWeJz-PNMt",
   "metadata": {
    "id": "uKCWeJz-PNMt"
   },
   "source": [
    "Como parte de la Maestría en Cienicas de Datos que estoy estudiando en la [Universidad Oberta de Catalunya](https://uoc.edu), me fue asignada una actividad que consiste en crear un *Data Storytelling* de un conjunto de datos sobre reservaciones de hoteles en Lisboa, Portugal. Creo que es una excelente oportunidad de mostrar un poco lo que he aprendido este semestre en la asignatura de Visualización de Datos, es por eso que he decidido crear el *storytelling* en un nuevo artículo del blog.\n"
   ]
  },
  {
   "cell_type": "markdown",
   "id": "6zvL80bGQoMV",
   "metadata": {
    "id": "6zvL80bGQoMV"
   },
   "source": [
    "# Sobre los datos"
   ]
  },
  {
   "cell_type": "markdown",
   "id": "BWkxBHzBQqJ2",
   "metadata": {
    "id": "BWkxBHzBQqJ2"
   },
   "source": [
    "El conjunto de datos que vamos a usar a lo largo del *storytelling* ha sido descrito completamente en el artículo titulado [Hotel booking demand datasets ](https://www.sciencedirect.com/science/article/pii/S2352340918315191). Como se ha mencionado anteriormente, los datos tratan sobre reservaciones de hoteles en Lisboa, Portugal hechas desde Julio 1 de 2015 hasta Agosto 31 de 2017. Particularmente dos hoteles, uno ubicado en la zona urbana de la ciudad y otro hotel tipo resort.\n",
    "\n",
    "Cada fila del conjunto de datos es una reservación hecha por un cliente para alguno de los dos hoteles. Además, tenemos información sobre el número de niños, bebés y adultos dentro de la reserva; més, semana y día en el cual se hizo la reserva; país de residencia de cliente, si la reserva se canceló o no, el tipo de comida que se incluyó para los clientes, entre otra información de interés."
   ]
  },
  {
   "cell_type": "markdown",
   "id": "LFgBn5osHcTb",
   "metadata": {
    "id": "LFgBn5osHcTb"
   },
   "source": [
    "# Herrmientas usadas para la visualización"
   ]
  },
  {
   "cell_type": "markdown",
   "id": "mPKgB01aG-AE",
   "metadata": {
    "id": "mPKgB01aG-AE"
   },
   "source": [
    "Todas las visualizaciones que vas a ver han sido creadas usando la librería [Plotly](https://plotly.com/python/). El blog está hosteado en Github pages y utiliza Jekyll para generar todo el sitio (si quieres saber un poco más a cerca de esto, puedes hacer click [acá](https://carmoreno.com.co/tutoriales/2015/08/13/Como-hice-el-blog/)).\n",
    "\n",
    "Me gustaría tambien mencionar a [Jérome Eertmans](https://github.com/jeertmans), el artículo de su blog titulado [\"Embedding Plotly in a Jekyll Post\"](https://eertmans.be/posts/plotly-example/) fue de gran ayuda para poder integrar Plotly y Jekyll sin morir en el intento (a veces una buena googleada es mejor que escribirle a Gemini o ChatGPT)."
   ]
  },
  {
   "cell_type": "markdown",
   "id": "nDT-9FP5IdF7",
   "metadata": {
    "id": "nDT-9FP5IdF7"
   },
   "source": [
    "# Ahora sí, manos a la obra."
   ]
  },
  {
   "cell_type": "markdown",
   "id": "498ef169049f8c5b",
   "metadata": {},
   "source": [
    "### ¿Prefieres mucha o poca gente?"
   ]
  },
  {
   "cell_type": "markdown",
   "id": "czFgkKaNI4uy",
   "metadata": {
    "id": "czFgkKaNI4uy"
   },
   "source": "Lisboa es uno de los destinos turísticos más visitados todos los años en Europa, tiene un clima excelente, buena comida, hermosos paisajes y playas mediterraneas. En 2021, esta ciudad ocupó [el tercer lugar](https://elordenmundial.com/mapas-y-graficos/ciudades-mas-visitadas-europa/) entre las 15 ciudades más visitadas de Europa, solo por detrás de París y Barcelona. Sin embargo, que sea tan popular no significa que todo sea color de rosa; muchas veces implica sitios de interés repletos de gente, pocos lugares para parquear tu vehículo y pagar precios más altos por temporada. ¿No sería mejor ir a Lisboa en una temporada un poco mas relajada?, podríamos usar los datos de hoteles para saber cuándo hay mayor cantidad de turistas. Entre más reservaciones sin cancelación existan, significa mayor cantidad de personas yendo a estos hoteles. Miremos qué nos dicen los datos."
  },
  {
   "cell_type": "code",
   "id": "f4a8d9b7d5f6b49c",
   "metadata": {
    "ExecuteTime": {
     "end_time": "2025-05-17T08:13:42.156766Z",
     "start_time": "2025-05-17T08:13:42.154730Z"
    }
   },
   "source": [
    "import polars as pl\n",
    "import numpy as np\n",
    "from plotting import express as px\n",
    "from plotting import graph_objects as go\n",
    "from plotly.subplots import make_subplots"
   ],
   "outputs": [],
   "execution_count": 19
  },
  {
   "cell_type": "code",
   "id": "183871a290cf9977",
   "metadata": {
    "ExecuteTime": {
     "end_time": "2025-05-17T08:13:42.208593Z",
     "start_time": "2025-05-17T08:13:42.170235Z"
    }
   },
   "source": [
    "reservas = pl.read_csv(\"/Users/carlosm/Documents/MDS/4th Semester/Viusalizacion/PEC3/hotel_bookings.csv\", null_values=[\"NA\"])\n",
    "reservas = reservas.with_columns(\n",
    "    pl.concat_str(\n",
    "        pl.col(\"arrival_date_year\"),\n",
    "        pl.col(\"arrival_date_month\"),\n",
    "        pl.lit(1),\n",
    "        separator=\"-\"\n",
    "    ).str.strptime(pl.Date, \"%Y-%B-%d\").alias(\"arrival_date\")\n",
    ")"
   ],
   "outputs": [],
   "execution_count": 20
  },
  {
   "cell_type": "code",
   "id": "2e6085edf58227da",
   "metadata": {
    "ExecuteTime": {
     "end_time": "2025-05-17T08:13:42.224482Z",
     "start_time": "2025-05-17T08:13:42.213891Z"
    }
   },
   "source": [
    "reservas_por_mes = (\n",
    "    reservas\n",
    "        .filter(pl.col(\"is_canceled\") == 0)\n",
    "        .select(pl.col(\"arrival_date\").dt.month().alias(\"month\"), \"hotel\", \"adr\", \"arrival_date_month\", \"country\", \"adults\", \"children\", \"is_canceled\")\n",
    ")\n",
    "reservas_por_mes"
   ],
   "outputs": [
    {
     "data": {
      "text/plain": [
       "shape: (75_166, 8)\n",
       "┌───────┬──────────────┬────────┬────────────────────┬─────────┬────────┬──────────┬─────────────┐\n",
       "│ month ┆ hotel        ┆ adr    ┆ arrival_date_month ┆ country ┆ adults ┆ children ┆ is_canceled │\n",
       "│ ---   ┆ ---          ┆ ---    ┆ ---                ┆ ---     ┆ ---    ┆ ---      ┆ ---         │\n",
       "│ i8    ┆ str          ┆ f64    ┆ str                ┆ str     ┆ i64    ┆ i64      ┆ i64         │\n",
       "╞═══════╪══════════════╪════════╪════════════════════╪═════════╪════════╪══════════╪═════════════╡\n",
       "│ 7     ┆ Resort Hotel ┆ 0.0    ┆ July               ┆ PRT     ┆ 2      ┆ 0        ┆ 0           │\n",
       "│ 7     ┆ Resort Hotel ┆ 0.0    ┆ July               ┆ PRT     ┆ 2      ┆ 0        ┆ 0           │\n",
       "│ 7     ┆ Resort Hotel ┆ 75.0   ┆ July               ┆ GBR     ┆ 1      ┆ 0        ┆ 0           │\n",
       "│ 7     ┆ Resort Hotel ┆ 75.0   ┆ July               ┆ GBR     ┆ 1      ┆ 0        ┆ 0           │\n",
       "│ 7     ┆ Resort Hotel ┆ 98.0   ┆ July               ┆ GBR     ┆ 2      ┆ 0        ┆ 0           │\n",
       "│ …     ┆ …            ┆ …      ┆ …                  ┆ …       ┆ …      ┆ …        ┆ …           │\n",
       "│ 8     ┆ City Hotel   ┆ 96.14  ┆ August             ┆ BEL     ┆ 2      ┆ 0        ┆ 0           │\n",
       "│ 8     ┆ City Hotel   ┆ 225.43 ┆ August             ┆ FRA     ┆ 3      ┆ 0        ┆ 0           │\n",
       "│ 8     ┆ City Hotel   ┆ 157.71 ┆ August             ┆ DEU     ┆ 2      ┆ 0        ┆ 0           │\n",
       "│ 8     ┆ City Hotel   ┆ 104.4  ┆ August             ┆ GBR     ┆ 2      ┆ 0        ┆ 0           │\n",
       "│ 8     ┆ City Hotel   ┆ 151.2  ┆ August             ┆ DEU     ┆ 2      ┆ 0        ┆ 0           │\n",
       "└───────┴──────────────┴────────┴────────────────────┴─────────┴────────┴──────────┴─────────────┘"
      ],
      "text/html": [
       "<div><style>\n",
       ".dataframe > thead > tr,\n",
       ".dataframe > tbody > tr {\n",
       "  text-align: right;\n",
       "  white-space: pre-wrap;\n",
       "}\n",
       "</style>\n",
       "<small>shape: (75_166, 8)</small><table border=\"1\" class=\"dataframe\"><thead><tr><th>month</th><th>hotel</th><th>adr</th><th>arrival_date_month</th><th>country</th><th>adults</th><th>children</th><th>is_canceled</th></tr><tr><td>i8</td><td>str</td><td>f64</td><td>str</td><td>str</td><td>i64</td><td>i64</td><td>i64</td></tr></thead><tbody><tr><td>7</td><td>&quot;Resort Hotel&quot;</td><td>0.0</td><td>&quot;July&quot;</td><td>&quot;PRT&quot;</td><td>2</td><td>0</td><td>0</td></tr><tr><td>7</td><td>&quot;Resort Hotel&quot;</td><td>0.0</td><td>&quot;July&quot;</td><td>&quot;PRT&quot;</td><td>2</td><td>0</td><td>0</td></tr><tr><td>7</td><td>&quot;Resort Hotel&quot;</td><td>75.0</td><td>&quot;July&quot;</td><td>&quot;GBR&quot;</td><td>1</td><td>0</td><td>0</td></tr><tr><td>7</td><td>&quot;Resort Hotel&quot;</td><td>75.0</td><td>&quot;July&quot;</td><td>&quot;GBR&quot;</td><td>1</td><td>0</td><td>0</td></tr><tr><td>7</td><td>&quot;Resort Hotel&quot;</td><td>98.0</td><td>&quot;July&quot;</td><td>&quot;GBR&quot;</td><td>2</td><td>0</td><td>0</td></tr><tr><td>&hellip;</td><td>&hellip;</td><td>&hellip;</td><td>&hellip;</td><td>&hellip;</td><td>&hellip;</td><td>&hellip;</td><td>&hellip;</td></tr><tr><td>8</td><td>&quot;City Hotel&quot;</td><td>96.14</td><td>&quot;August&quot;</td><td>&quot;BEL&quot;</td><td>2</td><td>0</td><td>0</td></tr><tr><td>8</td><td>&quot;City Hotel&quot;</td><td>225.43</td><td>&quot;August&quot;</td><td>&quot;FRA&quot;</td><td>3</td><td>0</td><td>0</td></tr><tr><td>8</td><td>&quot;City Hotel&quot;</td><td>157.71</td><td>&quot;August&quot;</td><td>&quot;DEU&quot;</td><td>2</td><td>0</td><td>0</td></tr><tr><td>8</td><td>&quot;City Hotel&quot;</td><td>104.4</td><td>&quot;August&quot;</td><td>&quot;GBR&quot;</td><td>2</td><td>0</td><td>0</td></tr><tr><td>8</td><td>&quot;City Hotel&quot;</td><td>151.2</td><td>&quot;August&quot;</td><td>&quot;DEU&quot;</td><td>2</td><td>0</td><td>0</td></tr></tbody></table></div>"
      ]
     },
     "execution_count": 21,
     "metadata": {},
     "output_type": "execute_result"
    }
   ],
   "execution_count": 21
  },
  {
   "cell_type": "code",
   "id": "f4d72e700bd0ceb4",
   "metadata": {
    "ExecuteTime": {
     "end_time": "2025-05-17T08:13:42.258432Z",
     "start_time": "2025-05-17T08:13:42.234538Z"
    }
   },
   "source": [
    "numero_reservas_por_mes = (\n",
    "    reservas_por_mes\n",
    "    .group_by(\"arrival_date_month\", \"month\", \"hotel\")\n",
    "        .agg(pl.col(\"adr\").count())\n",
    "        .rename({\"adr\": \"count\"})\n",
    "        .sort(by=\"month\")\n",
    ")\n",
    "\n",
    "numero_reservas_por_mes\n"
   ],
   "outputs": [
    {
     "data": {
      "text/plain": [
       "shape: (24, 4)\n",
       "┌────────────────────┬───────┬──────────────┬───────┐\n",
       "│ arrival_date_month ┆ month ┆ hotel        ┆ count │\n",
       "│ ---                ┆ ---   ┆ ---          ┆ ---   │\n",
       "│ str                ┆ i8    ┆ str          ┆ u32   │\n",
       "╞════════════════════╪═══════╪══════════════╪═══════╡\n",
       "│ January            ┆ 1     ┆ Resort Hotel ┆ 1868  │\n",
       "│ January            ┆ 1     ┆ City Hotel   ┆ 2254  │\n",
       "│ February           ┆ 2     ┆ Resort Hotel ┆ 2308  │\n",
       "│ February           ┆ 2     ┆ City Hotel   ┆ 3064  │\n",
       "│ March              ┆ 3     ┆ City Hotel   ┆ 4072  │\n",
       "│ …                  ┆ …     ┆ …            ┆ …     │\n",
       "│ October            ┆ 10    ┆ City Hotel   ┆ 4337  │\n",
       "│ November           ┆ 11    ┆ Resort Hotel ┆ 1976  │\n",
       "│ November           ┆ 11    ┆ City Hotel   ┆ 2696  │\n",
       "│ December           ┆ 12    ┆ Resort Hotel ┆ 2017  │\n",
       "│ December           ┆ 12    ┆ City Hotel   ┆ 2392  │\n",
       "└────────────────────┴───────┴──────────────┴───────┘"
      ],
      "text/html": [
       "<div><style>\n",
       ".dataframe > thead > tr,\n",
       ".dataframe > tbody > tr {\n",
       "  text-align: right;\n",
       "  white-space: pre-wrap;\n",
       "}\n",
       "</style>\n",
       "<small>shape: (24, 4)</small><table border=\"1\" class=\"dataframe\"><thead><tr><th>arrival_date_month</th><th>month</th><th>hotel</th><th>count</th></tr><tr><td>str</td><td>i8</td><td>str</td><td>u32</td></tr></thead><tbody><tr><td>&quot;January&quot;</td><td>1</td><td>&quot;Resort Hotel&quot;</td><td>1868</td></tr><tr><td>&quot;January&quot;</td><td>1</td><td>&quot;City Hotel&quot;</td><td>2254</td></tr><tr><td>&quot;February&quot;</td><td>2</td><td>&quot;Resort Hotel&quot;</td><td>2308</td></tr><tr><td>&quot;February&quot;</td><td>2</td><td>&quot;City Hotel&quot;</td><td>3064</td></tr><tr><td>&quot;March&quot;</td><td>3</td><td>&quot;City Hotel&quot;</td><td>4072</td></tr><tr><td>&hellip;</td><td>&hellip;</td><td>&hellip;</td><td>&hellip;</td></tr><tr><td>&quot;October&quot;</td><td>10</td><td>&quot;City Hotel&quot;</td><td>4337</td></tr><tr><td>&quot;November&quot;</td><td>11</td><td>&quot;Resort Hotel&quot;</td><td>1976</td></tr><tr><td>&quot;November&quot;</td><td>11</td><td>&quot;City Hotel&quot;</td><td>2696</td></tr><tr><td>&quot;December&quot;</td><td>12</td><td>&quot;Resort Hotel&quot;</td><td>2017</td></tr><tr><td>&quot;December&quot;</td><td>12</td><td>&quot;City Hotel&quot;</td><td>2392</td></tr></tbody></table></div>"
      ]
     },
     "execution_count": 22,
     "metadata": {},
     "output_type": "execute_result"
    }
   ],
   "execution_count": 22
  },
  {
   "cell_type": "code",
   "id": "97000d57247f5c26",
   "metadata": {
    "ExecuteTime": {
     "end_time": "2025-05-17T08:13:42.286826Z",
     "start_time": "2025-05-17T08:13:42.267541Z"
    }
   },
   "source": [
    "fig = px.bar(numero_reservas_por_mes, x=\"arrival_date_month\", y=\"count\", color=\"hotel\", title=\"Cantidad de reservas sin cancelación por mes (2015 - 2017)\", opacity=0.6, labels={\"hotel\": \"Hotel\", \"arrival_date_month\": \"Mes de llegada\", \"count\": \"Cantidad de reservas\"})\n",
    "fig.show()"
   ],
   "outputs": [
    {
     "data": {
      "text/html": [
       "<iframe style=\"color-scheme: none;\"\n",
       "    scrolling=\"no\"\n",
       "    width=\"100%\"\n",
       "    height=\"545px\"\n",
       "    src=\"../assets/notebooks/html_2a84a80a-1df6-4865-8759-6f1b1fd39a8a/figure_23.html\"\n",
       "    frameborder=\"0\"\n",
       "    allowfullscreen\n",
       "></iframe>\n"
      ]
     },
     "metadata": {},
     "output_type": "display_data"
    }
   ],
   "execution_count": 23
  },
  {
   "cell_type": "markdown",
   "id": "a7fe69bbebdcf783",
   "metadata": {},
   "source": [
    "Al parecer los meses donde más reservaciones hay son Julio y Agosto, tanto para el Hotel Urbano como para el Hotel Resort. Esto no debería de sorprendernos, puesto que son normalmente en los meses de verano donde más personas salen a vacacionar. Sin embargo, algo que sorprende son los números de reservas completadas para el mes de **Junio**, ya que son pocas en comparación con el increible clima que hace en este mes, solo 6,404.\n",
    "\n",
    "Fijémonos ahora en el mes de Septiembre, si bien no acostumbra a ser extremadamente soleado de inicio a fin, no esta nada mal para tomarse unas vacaciones, aún así el numero de reservas completadas no son tantas (6,392) como en Julio y Agosto. Por lo general, los primeros cuatro meses del año y los últimos tres no tienen el mejor clima, por eso no es de sorprendernos que la cantidad de reservas completadas no sean tan altas. Pareciera que viajar en Junio y Septiembre nos ofrece una relación `clima/cantidad de turistas` bastante interesante. Pero, ¿de qué nacionalidad serían las personas que nos encontraríamos si viajásemos en alguno de esos dos meses? Exploremos."
   ]
  },
  {
   "cell_type": "markdown",
   "id": "564385714900485d",
   "metadata": {},
   "source": [
    "### Los más viajeros"
   ]
  },
  {
   "metadata": {},
   "cell_type": "markdown",
   "source": "Primero miremos de forma general de dónde proceden las personas que han hecho una reserva completada (sin cancelación) en alguno de los dos hoteles.",
   "id": "ee88910b8b36b3bd"
  },
  {
   "cell_type": "code",
   "id": "91fe9a6e35e1ff4",
   "metadata": {
    "ExecuteTime": {
     "end_time": "2025-05-17T08:13:42.302619Z",
     "start_time": "2025-05-17T08:13:42.297131Z"
    }
   },
   "source": [
    "nacionalidades_reservas = (\n",
    "    reservas_por_mes.select(\"country\", \"hotel\", \"adr\")\n",
    "        .group_by([\"country\", \"hotel\"])\n",
    "        .agg(pl.col(\"adr\").count())\n",
    "        .rename({\"adr\": \"count\"})\n",
    "        .sort(by=\"count\", descending=True)\n",
    ")\n",
    "nacionalidades_reservas"
   ],
   "outputs": [
    {
     "data": {
      "text/plain": [
       "shape: (270, 3)\n",
       "┌─────────┬──────────────┬───────┐\n",
       "│ country ┆ hotel        ┆ count │\n",
       "│ ---     ┆ ---          ┆ ---   │\n",
       "│ str     ┆ str          ┆ u32   │\n",
       "╞═════════╪══════════════╪═══════╡\n",
       "│ PRT     ┆ City Hotel   ┆ 10879 │\n",
       "│ PRT     ┆ Resort Hotel ┆ 10192 │\n",
       "│ FRA     ┆ City Hotel   ┆ 7081  │\n",
       "│ GBR     ┆ Resort Hotel ┆ 5923  │\n",
       "│ DEU     ┆ City Hotel   ┆ 5012  │\n",
       "│ …       ┆ …            ┆ …     │\n",
       "│ ZMB     ┆ Resort Hotel ┆ 1     │\n",
       "│ UGA     ┆ Resort Hotel ┆ 1     │\n",
       "│ UZB     ┆ City Hotel   ┆ 1     │\n",
       "│ SYR     ┆ Resort Hotel ┆ 1     │\n",
       "│ SYC     ┆ City Hotel   ┆ 1     │\n",
       "└─────────┴──────────────┴───────┘"
      ],
      "text/html": [
       "<div><style>\n",
       ".dataframe > thead > tr,\n",
       ".dataframe > tbody > tr {\n",
       "  text-align: right;\n",
       "  white-space: pre-wrap;\n",
       "}\n",
       "</style>\n",
       "<small>shape: (270, 3)</small><table border=\"1\" class=\"dataframe\"><thead><tr><th>country</th><th>hotel</th><th>count</th></tr><tr><td>str</td><td>str</td><td>u32</td></tr></thead><tbody><tr><td>&quot;PRT&quot;</td><td>&quot;City Hotel&quot;</td><td>10879</td></tr><tr><td>&quot;PRT&quot;</td><td>&quot;Resort Hotel&quot;</td><td>10192</td></tr><tr><td>&quot;FRA&quot;</td><td>&quot;City Hotel&quot;</td><td>7081</td></tr><tr><td>&quot;GBR&quot;</td><td>&quot;Resort Hotel&quot;</td><td>5923</td></tr><tr><td>&quot;DEU&quot;</td><td>&quot;City Hotel&quot;</td><td>5012</td></tr><tr><td>&hellip;</td><td>&hellip;</td><td>&hellip;</td></tr><tr><td>&quot;ZMB&quot;</td><td>&quot;Resort Hotel&quot;</td><td>1</td></tr><tr><td>&quot;UGA&quot;</td><td>&quot;Resort Hotel&quot;</td><td>1</td></tr><tr><td>&quot;UZB&quot;</td><td>&quot;City Hotel&quot;</td><td>1</td></tr><tr><td>&quot;SYR&quot;</td><td>&quot;Resort Hotel&quot;</td><td>1</td></tr><tr><td>&quot;SYC&quot;</td><td>&quot;City Hotel&quot;</td><td>1</td></tr></tbody></table></div>"
      ]
     },
     "execution_count": 24,
     "metadata": {},
     "output_type": "execute_result"
    }
   ],
   "execution_count": 24
  },
  {
   "cell_type": "code",
   "id": "8b75273dc2bab9b4",
   "metadata": {
    "ExecuteTime": {
     "end_time": "2025-05-17T08:13:42.334665Z",
     "start_time": "2025-05-17T08:13:42.315877Z"
    }
   },
   "source": [
    "fig = px.bar(nacionalidades_reservas, x=\"country\", y=\"count\", color=\"hotel\", title=\"Cantidad de reservaciones no cancelandas por país de origen (2015 - 2017)\", opacity=0.6, labels={\"hotel\": \"Hotel\", \"country\": \"País\", \"count\": \"Cantidad de reservas\"})\n",
    "fig.show()"
   ],
   "outputs": [
    {
     "data": {
      "text/html": [
       "<iframe style=\"color-scheme: none;\"\n",
       "    scrolling=\"no\"\n",
       "    width=\"100%\"\n",
       "    height=\"545px\"\n",
       "    src=\"../assets/notebooks/html_2a84a80a-1df6-4865-8759-6f1b1fd39a8a/figure_25.html\"\n",
       "    frameborder=\"0\"\n",
       "    allowfullscreen\n",
       "></iframe>\n"
      ]
     },
     "metadata": {},
     "output_type": "display_data"
    }
   ],
   "execution_count": 25
  },
  {
   "cell_type": "markdown",
   "id": "c672fe784bd39af9",
   "metadata": {},
   "source": [
    "Vemos que tenemos muchos paises (**178** para ser exactos). Tiene sentido que Portugal sea el país desde donde más se hacen reservas a Lisboa seguido de los paises cercanos como España, Francia, Italia y Reino Unido. Este último al igual que Irlanda parecen preferir el Hotel Resort en lugar del Hotel Urbano.\n",
    "\n",
    "Por el contrario, los tursitas que vienen de los tres primeros países mencionados anteriormente prefieren visitar el Hotel Urbano, al igual que los turistas que proceden de Alemania. Ahora exploremos de qué paises serían los turistas que nos pudieramos encontrar en Lisboa, en caso de que viajaramos en Junio o Septiembre. Vamos a tomar solo paises que tengan 50 personas o más, con el fin de mostrar datos más significativos. Miremos:"
   ]
  },
  {
   "cell_type": "code",
   "id": "c73266a8ad1e1f51",
   "metadata": {
    "ExecuteTime": {
     "end_time": "2025-05-17T08:13:42.351642Z",
     "start_time": "2025-05-17T08:13:42.344236Z"
    }
   },
   "source": [
    "nacionalidad_reservas_mes = (\n",
    "    reservas_por_mes\n",
    "    .filter(pl.col(\"arrival_date_month\").is_in([\"June\", \"September\"]))\n",
    "    .group_by(\"arrival_date_month\", \"country\", \"hotel\")\n",
    "    .agg(pl.col(\"adr\").count(), pl.col(\"adults\").sum(), pl.col(\"children\").sum())\n",
    "    .rename({\"adr\": \"count\"})\n",
    "    .filter(pl.col(\"count\") >= 50)\n",
    "    .sort(by=[\"arrival_date_month\", \"count\"], descending=True)\n",
    ")\n",
    "nacionalidad_reservas_mes = nacionalidad_reservas_mes.with_columns(\n",
    "    total_people=(pl.col(\"adults\") + pl.col(\"children\"))\n",
    ")\n",
    "nacionalidad_reservas_mes\n",
    "#reservas_por_mes"
   ],
   "outputs": [
    {
     "data": {
      "text/plain": [
       "shape: (43, 7)\n",
       "┌────────────────────┬─────────┬──────────────┬───────┬────────┬──────────┬──────────────┐\n",
       "│ arrival_date_month ┆ country ┆ hotel        ┆ count ┆ adults ┆ children ┆ total_people │\n",
       "│ ---                ┆ ---     ┆ ---          ┆ ---   ┆ ---    ┆ ---      ┆ ---          │\n",
       "│ str                ┆ str     ┆ str          ┆ u32   ┆ i64    ┆ i64      ┆ i64          │\n",
       "╞════════════════════╪═════════╪══════════════╪═══════╪════════╪══════════╪══════════════╡\n",
       "│ September          ┆ PRT     ┆ City Hotel   ┆ 1196  ┆ 2005   ┆ 57       ┆ 2062         │\n",
       "│ September          ┆ GBR     ┆ Resort Hotel ┆ 568   ┆ 1089   ┆ 26       ┆ 1115         │\n",
       "│ September          ┆ FRA     ┆ City Hotel   ┆ 519   ┆ 943    ┆ 11       ┆ 954          │\n",
       "│ September          ┆ DEU     ┆ City Hotel   ┆ 447   ┆ 826    ┆ 17       ┆ 843          │\n",
       "│ September          ┆ PRT     ┆ Resort Hotel ┆ 430   ┆ 797    ┆ 40       ┆ 837          │\n",
       "│ …                  ┆ …       ┆ …            ┆ …     ┆ …      ┆ …        ┆ …            │\n",
       "│ June               ┆ SRB     ┆ City Hotel   ┆ 68    ┆ 74     ┆ 0        ┆ 74           │\n",
       "│ June               ┆ SWE     ┆ City Hotel   ┆ 68    ┆ 128    ┆ 15       ┆ 143          │\n",
       "│ June               ┆ DEU     ┆ Resort Hotel ┆ 56    ┆ 107    ┆ 2        ┆ 109          │\n",
       "│ June               ┆ FRA     ┆ Resort Hotel ┆ 54    ┆ 105    ┆ 10       ┆ 115          │\n",
       "│ June               ┆ POL     ┆ Resort Hotel ┆ 51    ┆ 100    ┆ 3        ┆ 103          │\n",
       "└────────────────────┴─────────┴──────────────┴───────┴────────┴──────────┴──────────────┘"
      ],
      "text/html": [
       "<div><style>\n",
       ".dataframe > thead > tr,\n",
       ".dataframe > tbody > tr {\n",
       "  text-align: right;\n",
       "  white-space: pre-wrap;\n",
       "}\n",
       "</style>\n",
       "<small>shape: (43, 7)</small><table border=\"1\" class=\"dataframe\"><thead><tr><th>arrival_date_month</th><th>country</th><th>hotel</th><th>count</th><th>adults</th><th>children</th><th>total_people</th></tr><tr><td>str</td><td>str</td><td>str</td><td>u32</td><td>i64</td><td>i64</td><td>i64</td></tr></thead><tbody><tr><td>&quot;September&quot;</td><td>&quot;PRT&quot;</td><td>&quot;City Hotel&quot;</td><td>1196</td><td>2005</td><td>57</td><td>2062</td></tr><tr><td>&quot;September&quot;</td><td>&quot;GBR&quot;</td><td>&quot;Resort Hotel&quot;</td><td>568</td><td>1089</td><td>26</td><td>1115</td></tr><tr><td>&quot;September&quot;</td><td>&quot;FRA&quot;</td><td>&quot;City Hotel&quot;</td><td>519</td><td>943</td><td>11</td><td>954</td></tr><tr><td>&quot;September&quot;</td><td>&quot;DEU&quot;</td><td>&quot;City Hotel&quot;</td><td>447</td><td>826</td><td>17</td><td>843</td></tr><tr><td>&quot;September&quot;</td><td>&quot;PRT&quot;</td><td>&quot;Resort Hotel&quot;</td><td>430</td><td>797</td><td>40</td><td>837</td></tr><tr><td>&hellip;</td><td>&hellip;</td><td>&hellip;</td><td>&hellip;</td><td>&hellip;</td><td>&hellip;</td><td>&hellip;</td></tr><tr><td>&quot;June&quot;</td><td>&quot;SRB&quot;</td><td>&quot;City Hotel&quot;</td><td>68</td><td>74</td><td>0</td><td>74</td></tr><tr><td>&quot;June&quot;</td><td>&quot;SWE&quot;</td><td>&quot;City Hotel&quot;</td><td>68</td><td>128</td><td>15</td><td>143</td></tr><tr><td>&quot;June&quot;</td><td>&quot;DEU&quot;</td><td>&quot;Resort Hotel&quot;</td><td>56</td><td>107</td><td>2</td><td>109</td></tr><tr><td>&quot;June&quot;</td><td>&quot;FRA&quot;</td><td>&quot;Resort Hotel&quot;</td><td>54</td><td>105</td><td>10</td><td>115</td></tr><tr><td>&quot;June&quot;</td><td>&quot;POL&quot;</td><td>&quot;Resort Hotel&quot;</td><td>51</td><td>100</td><td>3</td><td>103</td></tr></tbody></table></div>"
      ]
     },
     "execution_count": 26,
     "metadata": {},
     "output_type": "execute_result"
    }
   ],
   "execution_count": 26
  },
  {
   "cell_type": "code",
   "id": "b47b3e94cd597843",
   "metadata": {
    "ExecuteTime": {
     "end_time": "2025-05-17T08:16:55.443584Z",
     "start_time": "2025-05-17T08:16:55.416757Z"
    }
   },
   "source": [
    "fig = px.treemap(\n",
    "    nacionalidad_reservas_mes,\n",
    "    path=[px.Constant(\"Months\"), 'arrival_date_month', \"hotel\", 'country'],\n",
    "    values='total_people',\n",
    "    color='total_people',\n",
    "    color_continuous_scale='RdBu_r',\n",
    "    color_continuous_midpoint=np.average(\n",
    "        (nacionalidad_reservas_mes.select('total_people').get_column(\"total_people\")).to_list()\n",
    "    ),\n",
    "    title=\"Cantidad de personas (adultos y niños) en Junio y Septiembre por país y hotel\",\n",
    "    labels={\"total_people\": \"Total Personas\"},\n",
    ")\n",
    "fig.update_layout(margin=dict(t=50, l=25, r=25, b=25))\n",
    "fig.update_traces(\n",
    "    marker=dict(cornerradius=5),\n",
    "    hovertemplate='<b>%{label} </b> <br> Total personas: %{value:,}'\n",
    ")\n",
    "fig.show()"
   ],
   "outputs": [
    {
     "data": {
      "text/html": [
       "<iframe style=\"color-scheme: none;\"\n",
       "    scrolling=\"no\"\n",
       "    width=\"100%\"\n",
       "    height=\"545px\"\n",
       "    src=\"../assets/notebooks/html_2a84a80a-1df6-4865-8759-6f1b1fd39a8a/figure_35.html\"\n",
       "    frameborder=\"0\"\n",
       "    allowfullscreen\n",
       "></iframe>\n"
      ]
     },
     "metadata": {},
     "output_type": "display_data"
    }
   ],
   "execution_count": 35
  },
  {
   "cell_type": "markdown",
   "id": "52b66f3a0448214f",
   "metadata": {},
   "source": [
    "El anterior gráfico de árbol nos muestra la cantidad de personas por nacionalidad que podemos encontrarnos, sea que vayamos en Junio o en Septiembre y sea que nos quedemos en el Hotel Resort o en el Hotel Urbano. Puedes pasar el cursor por encima de cada cuadro para obtener el total de personas de cada nacionalidad, también hacer clic por ejemplo en el Hotel Urbano del mes de Junio, para navegar directamente a esta información.\n",
    "\n",
    "Vemos que si nos hospedamos en el Hotel Resort en cualquiera de los dos meses, tendríamos muchas más chances de encontrarnos Británicos que Portugueses. Por el contrario, en el Hotel Urbano nos encontraríamos en mayor medida con Portugueses, Alemanes y Franceses. En Septiembre podríamos encontrarnos con algún Español en el Hotel Urbano. Parece ser que los Británicos tienden a preferir el Hotel Resort.\n",
    "\n",
    "Del anterior gráfico también podemos observar que habrá un poco más de turistas en Junio que en Septiembre, sin embargo, será el Hotel Urbano quién tendrá mas cantidad de personas sin importar el mes. Por lo tanto, si tu plan es relajarte en un hotel cercano a la playa y no tanto salir a conocer la ciudad llena de turistas, sería un excelente plan ir al Hotel Resort cerca del mar en Junio ya que habrán menos personas, y si hablas Inglés, podrías aprovechar para practicar, ya que la mayoría de ellos serían Británicos."
   ]
  },
  {
   "cell_type": "markdown",
   "id": "14cfd463953b9e34",
   "metadata": {},
   "source": [
    "### ¡Atentos a las cancelaciones!"
   ]
  },
  {
   "cell_type": "markdown",
   "id": "1dfc95c4207c12e3",
   "metadata": {},
   "source": "Ya vimos que Junio y Septiembre pueden ser los mejores meses para viajar si es que estás buscando un equilibrio entre clima y cantidad de turistas, pero quizá no te importe mucho esto último. Quizá lo más importante para tí sea viajar en los meses de verano sea que haya muchos turístas o no; sin embargo no siempre es posible reservar a tiempo y los mejores meses son los primeros en irse. Que tal si miramos la taza de cancelaciones por mes para mirar si tenemos algún chance de \"cazar\" alguna reserva cancelada en caso de no poder reservar a tiempo, e irnos de vacaciones a Lisboa."
  },
  {
   "cell_type": "code",
   "id": "6ce71923a5efdf35",
   "metadata": {
    "ExecuteTime": {
     "end_time": "2025-05-17T08:13:42.466789Z",
     "start_time": "2025-05-17T08:13:42.461386Z"
    }
   },
   "source": [
    "reservas_canceladas = (\n",
    "    reservas\n",
    "        .select(\n",
    "            \"arrival_date_month\",\n",
    "            \"hotel\",\n",
    "            \"country\",\n",
    "            pl.col(\"arrival_date\").dt.month().alias(\"month\"),\n",
    "            pl.when(pl.col.is_canceled == 1).then(pl.lit(\"Si\")).otherwise(pl.lit(\"No\")).alias(\"is_canceled\"),\n",
    "        )\n",
    ")\n",
    "reservas_canceladas\n",
    "#total = reservas_canceladas.select(\"is_canceled\").count()"
   ],
   "outputs": [
    {
     "data": {
      "text/plain": [
       "shape: (119_390, 5)\n",
       "┌────────────────────┬──────────────┬─────────┬───────┬─────────────┐\n",
       "│ arrival_date_month ┆ hotel        ┆ country ┆ month ┆ is_canceled │\n",
       "│ ---                ┆ ---          ┆ ---     ┆ ---   ┆ ---         │\n",
       "│ str                ┆ str          ┆ str     ┆ i8    ┆ str         │\n",
       "╞════════════════════╪══════════════╪═════════╪═══════╪═════════════╡\n",
       "│ July               ┆ Resort Hotel ┆ PRT     ┆ 7     ┆ No          │\n",
       "│ July               ┆ Resort Hotel ┆ PRT     ┆ 7     ┆ No          │\n",
       "│ July               ┆ Resort Hotel ┆ GBR     ┆ 7     ┆ No          │\n",
       "│ July               ┆ Resort Hotel ┆ GBR     ┆ 7     ┆ No          │\n",
       "│ July               ┆ Resort Hotel ┆ GBR     ┆ 7     ┆ No          │\n",
       "│ …                  ┆ …            ┆ …       ┆ …     ┆ …           │\n",
       "│ August             ┆ City Hotel   ┆ BEL     ┆ 8     ┆ No          │\n",
       "│ August             ┆ City Hotel   ┆ FRA     ┆ 8     ┆ No          │\n",
       "│ August             ┆ City Hotel   ┆ DEU     ┆ 8     ┆ No          │\n",
       "│ August             ┆ City Hotel   ┆ GBR     ┆ 8     ┆ No          │\n",
       "│ August             ┆ City Hotel   ┆ DEU     ┆ 8     ┆ No          │\n",
       "└────────────────────┴──────────────┴─────────┴───────┴─────────────┘"
      ],
      "text/html": [
       "<div><style>\n",
       ".dataframe > thead > tr,\n",
       ".dataframe > tbody > tr {\n",
       "  text-align: right;\n",
       "  white-space: pre-wrap;\n",
       "}\n",
       "</style>\n",
       "<small>shape: (119_390, 5)</small><table border=\"1\" class=\"dataframe\"><thead><tr><th>arrival_date_month</th><th>hotel</th><th>country</th><th>month</th><th>is_canceled</th></tr><tr><td>str</td><td>str</td><td>str</td><td>i8</td><td>str</td></tr></thead><tbody><tr><td>&quot;July&quot;</td><td>&quot;Resort Hotel&quot;</td><td>&quot;PRT&quot;</td><td>7</td><td>&quot;No&quot;</td></tr><tr><td>&quot;July&quot;</td><td>&quot;Resort Hotel&quot;</td><td>&quot;PRT&quot;</td><td>7</td><td>&quot;No&quot;</td></tr><tr><td>&quot;July&quot;</td><td>&quot;Resort Hotel&quot;</td><td>&quot;GBR&quot;</td><td>7</td><td>&quot;No&quot;</td></tr><tr><td>&quot;July&quot;</td><td>&quot;Resort Hotel&quot;</td><td>&quot;GBR&quot;</td><td>7</td><td>&quot;No&quot;</td></tr><tr><td>&quot;July&quot;</td><td>&quot;Resort Hotel&quot;</td><td>&quot;GBR&quot;</td><td>7</td><td>&quot;No&quot;</td></tr><tr><td>&hellip;</td><td>&hellip;</td><td>&hellip;</td><td>&hellip;</td><td>&hellip;</td></tr><tr><td>&quot;August&quot;</td><td>&quot;City Hotel&quot;</td><td>&quot;BEL&quot;</td><td>8</td><td>&quot;No&quot;</td></tr><tr><td>&quot;August&quot;</td><td>&quot;City Hotel&quot;</td><td>&quot;FRA&quot;</td><td>8</td><td>&quot;No&quot;</td></tr><tr><td>&quot;August&quot;</td><td>&quot;City Hotel&quot;</td><td>&quot;DEU&quot;</td><td>8</td><td>&quot;No&quot;</td></tr><tr><td>&quot;August&quot;</td><td>&quot;City Hotel&quot;</td><td>&quot;GBR&quot;</td><td>8</td><td>&quot;No&quot;</td></tr><tr><td>&quot;August&quot;</td><td>&quot;City Hotel&quot;</td><td>&quot;DEU&quot;</td><td>8</td><td>&quot;No&quot;</td></tr></tbody></table></div>"
      ]
     },
     "execution_count": 28,
     "metadata": {},
     "output_type": "execute_result"
    }
   ],
   "execution_count": 28
  },
  {
   "cell_type": "code",
   "id": "1182a14ead684174",
   "metadata": {
    "ExecuteTime": {
     "end_time": "2025-05-17T08:13:42.485782Z",
     "start_time": "2025-05-17T08:13:42.478832Z"
    }
   },
   "source": [
    "reservas_canceladas_por_mes = (\n",
    "    reservas_canceladas\n",
    "        .group_by(\"arrival_date_month\", \"month\", \"hotel\", \"is_canceled\")\n",
    "        .agg(pl.col(\"country\").count())\n",
    "        .rename({\"country\": \"count\"})\n",
    "        .sort(by=\"month\")\n",
    ").with_columns(\n",
    "    percentage=(pl.col(\"count\") / pl.col(\"count\").sum()) * 100\n",
    ")\n",
    "reservas_canceladas_por_mes"
   ],
   "outputs": [
    {
     "data": {
      "text/plain": [
       "shape: (48, 6)\n",
       "┌────────────────────┬───────┬──────────────┬─────────────┬───────┬────────────┐\n",
       "│ arrival_date_month ┆ month ┆ hotel        ┆ is_canceled ┆ count ┆ percentage │\n",
       "│ ---                ┆ ---   ┆ ---          ┆ ---         ┆ ---   ┆ ---        │\n",
       "│ str                ┆ i8    ┆ str          ┆ str         ┆ u32   ┆ f64        │\n",
       "╞════════════════════╪═══════╪══════════════╪═════════════╪═══════╪════════════╡\n",
       "│ January            ┆ 1     ┆ City Hotel   ┆ No          ┆ 2254  ┆ 1.88793    │\n",
       "│ January            ┆ 1     ┆ City Hotel   ┆ Si          ┆ 1482  ┆ 1.24131    │\n",
       "│ January            ┆ 1     ┆ Resort Hotel ┆ No          ┆ 1868  ┆ 1.56462    │\n",
       "│ January            ┆ 1     ┆ Resort Hotel ┆ Si          ┆ 325   ┆ 0.272217   │\n",
       "│ February           ┆ 2     ┆ Resort Hotel ┆ Si          ┆ 795   ┆ 0.665885   │\n",
       "│ …                  ┆ …     ┆ …            ┆ …           ┆ …     ┆ …          │\n",
       "│ November           ┆ 11    ┆ Resort Hotel ┆ No          ┆ 1976  ┆ 1.65508    │\n",
       "│ December           ┆ 12    ┆ City Hotel   ┆ Si          ┆ 1740  ┆ 1.457408   │\n",
       "│ December           ┆ 12    ┆ Resort Hotel ┆ Si          ┆ 631   ┆ 0.52852    │\n",
       "│ December           ┆ 12    ┆ City Hotel   ┆ No          ┆ 2392  ┆ 2.003518   │\n",
       "│ December           ┆ 12    ┆ Resort Hotel ┆ No          ┆ 2017  ┆ 1.689421   │\n",
       "└────────────────────┴───────┴──────────────┴─────────────┴───────┴────────────┘"
      ],
      "text/html": [
       "<div><style>\n",
       ".dataframe > thead > tr,\n",
       ".dataframe > tbody > tr {\n",
       "  text-align: right;\n",
       "  white-space: pre-wrap;\n",
       "}\n",
       "</style>\n",
       "<small>shape: (48, 6)</small><table border=\"1\" class=\"dataframe\"><thead><tr><th>arrival_date_month</th><th>month</th><th>hotel</th><th>is_canceled</th><th>count</th><th>percentage</th></tr><tr><td>str</td><td>i8</td><td>str</td><td>str</td><td>u32</td><td>f64</td></tr></thead><tbody><tr><td>&quot;January&quot;</td><td>1</td><td>&quot;City Hotel&quot;</td><td>&quot;No&quot;</td><td>2254</td><td>1.88793</td></tr><tr><td>&quot;January&quot;</td><td>1</td><td>&quot;City Hotel&quot;</td><td>&quot;Si&quot;</td><td>1482</td><td>1.24131</td></tr><tr><td>&quot;January&quot;</td><td>1</td><td>&quot;Resort Hotel&quot;</td><td>&quot;No&quot;</td><td>1868</td><td>1.56462</td></tr><tr><td>&quot;January&quot;</td><td>1</td><td>&quot;Resort Hotel&quot;</td><td>&quot;Si&quot;</td><td>325</td><td>0.272217</td></tr><tr><td>&quot;February&quot;</td><td>2</td><td>&quot;Resort Hotel&quot;</td><td>&quot;Si&quot;</td><td>795</td><td>0.665885</td></tr><tr><td>&hellip;</td><td>&hellip;</td><td>&hellip;</td><td>&hellip;</td><td>&hellip;</td><td>&hellip;</td></tr><tr><td>&quot;November&quot;</td><td>11</td><td>&quot;Resort Hotel&quot;</td><td>&quot;No&quot;</td><td>1976</td><td>1.65508</td></tr><tr><td>&quot;December&quot;</td><td>12</td><td>&quot;City Hotel&quot;</td><td>&quot;Si&quot;</td><td>1740</td><td>1.457408</td></tr><tr><td>&quot;December&quot;</td><td>12</td><td>&quot;Resort Hotel&quot;</td><td>&quot;Si&quot;</td><td>631</td><td>0.52852</td></tr><tr><td>&quot;December&quot;</td><td>12</td><td>&quot;City Hotel&quot;</td><td>&quot;No&quot;</td><td>2392</td><td>2.003518</td></tr><tr><td>&quot;December&quot;</td><td>12</td><td>&quot;Resort Hotel&quot;</td><td>&quot;No&quot;</td><td>2017</td><td>1.689421</td></tr></tbody></table></div>"
      ]
     },
     "execution_count": 29,
     "metadata": {},
     "output_type": "execute_result"
    }
   ],
   "execution_count": 29
  },
  {
   "metadata": {
    "ExecuteTime": {
     "end_time": "2025-05-17T08:13:42.500908Z",
     "start_time": "2025-05-17T08:13:42.495539Z"
    }
   },
   "cell_type": "code",
   "source": [
    "# Realiza un conteo por grupos  para saber el chance de que hayan cancelaciones en un mes y tipo de hotel.\n",
    "# La idea es que por cada grupo (mes, hotel) obtengamos un porcentaje de reservas canceladas y no canceladas\n",
    "# Por cada grupo (mes, hotel) el total de este porcentaje sera del 100%.\n",
    "reservas_canceladas_total_por_grupos = (reservas_canceladas_por_mes\n",
    "    .group_by(\"arrival_date_month\", \"month\", \"hotel\")\n",
    "    .agg(pl.col(\"count\").sum())\n",
    "    .rename({\"count\": \"total_by_group\"})\n",
    "    .sort(\"month\"))\n",
    "\n",
    "reservas_canceladas_total_por_grupos = (\n",
    "    reservas_canceladas_total_por_grupos\n",
    "        .join(reservas_canceladas_por_mes, on=[\"arrival_date_month\", \"month\", \"hotel\"])\n",
    "        .with_columns(\n",
    "            percentage=(pl.col(\"count\") / pl.col(\"total_by_group\")) * 100\n",
    "        )\n",
    "        .select(\"month\", \"arrival_date_month\", \"hotel\", \"is_canceled\", \"count\", \"percentage\")\n",
    "        .sort(by=[\"month\", \"hotel\"])\n",
    ")\n",
    "reservas_canceladas_total_por_grupos"
   ],
   "id": "f8e3cdb3220e1e91",
   "outputs": [
    {
     "data": {
      "text/plain": [
       "shape: (48, 6)\n",
       "┌───────┬────────────────────┬──────────────┬─────────────┬───────┬────────────┐\n",
       "│ month ┆ arrival_date_month ┆ hotel        ┆ is_canceled ┆ count ┆ percentage │\n",
       "│ ---   ┆ ---                ┆ ---          ┆ ---         ┆ ---   ┆ ---        │\n",
       "│ i8    ┆ str                ┆ str          ┆ str         ┆ u32   ┆ f64        │\n",
       "╞═══════╪════════════════════╪══════════════╪═════════════╪═══════╪════════════╡\n",
       "│ 1     ┆ January            ┆ City Hotel   ┆ No          ┆ 2254  ┆ 60.331906  │\n",
       "│ 1     ┆ January            ┆ City Hotel   ┆ Si          ┆ 1482  ┆ 39.668094  │\n",
       "│ 1     ┆ January            ┆ Resort Hotel ┆ No          ┆ 1868  ┆ 85.180119  │\n",
       "│ 1     ┆ January            ┆ Resort Hotel ┆ Si          ┆ 325   ┆ 14.819881  │\n",
       "│ 2     ┆ February           ┆ City Hotel   ┆ No          ┆ 3064  ┆ 61.711984  │\n",
       "│ …     ┆ …                  ┆ …            ┆ …           ┆ …     ┆ …          │\n",
       "│ 11    ┆ November           ┆ Resort Hotel ┆ No          ┆ 1976  ┆ 81.083299  │\n",
       "│ 12    ┆ December           ┆ City Hotel   ┆ Si          ┆ 1740  ┆ 42.110358  │\n",
       "│ 12    ┆ December           ┆ City Hotel   ┆ No          ┆ 2392  ┆ 57.889642  │\n",
       "│ 12    ┆ December           ┆ Resort Hotel ┆ Si          ┆ 631   ┆ 23.829305  │\n",
       "│ 12    ┆ December           ┆ Resort Hotel ┆ No          ┆ 2017  ┆ 76.170695  │\n",
       "└───────┴────────────────────┴──────────────┴─────────────┴───────┴────────────┘"
      ],
      "text/html": [
       "<div><style>\n",
       ".dataframe > thead > tr,\n",
       ".dataframe > tbody > tr {\n",
       "  text-align: right;\n",
       "  white-space: pre-wrap;\n",
       "}\n",
       "</style>\n",
       "<small>shape: (48, 6)</small><table border=\"1\" class=\"dataframe\"><thead><tr><th>month</th><th>arrival_date_month</th><th>hotel</th><th>is_canceled</th><th>count</th><th>percentage</th></tr><tr><td>i8</td><td>str</td><td>str</td><td>str</td><td>u32</td><td>f64</td></tr></thead><tbody><tr><td>1</td><td>&quot;January&quot;</td><td>&quot;City Hotel&quot;</td><td>&quot;No&quot;</td><td>2254</td><td>60.331906</td></tr><tr><td>1</td><td>&quot;January&quot;</td><td>&quot;City Hotel&quot;</td><td>&quot;Si&quot;</td><td>1482</td><td>39.668094</td></tr><tr><td>1</td><td>&quot;January&quot;</td><td>&quot;Resort Hotel&quot;</td><td>&quot;No&quot;</td><td>1868</td><td>85.180119</td></tr><tr><td>1</td><td>&quot;January&quot;</td><td>&quot;Resort Hotel&quot;</td><td>&quot;Si&quot;</td><td>325</td><td>14.819881</td></tr><tr><td>2</td><td>&quot;February&quot;</td><td>&quot;City Hotel&quot;</td><td>&quot;No&quot;</td><td>3064</td><td>61.711984</td></tr><tr><td>&hellip;</td><td>&hellip;</td><td>&hellip;</td><td>&hellip;</td><td>&hellip;</td><td>&hellip;</td></tr><tr><td>11</td><td>&quot;November&quot;</td><td>&quot;Resort Hotel&quot;</td><td>&quot;No&quot;</td><td>1976</td><td>81.083299</td></tr><tr><td>12</td><td>&quot;December&quot;</td><td>&quot;City Hotel&quot;</td><td>&quot;Si&quot;</td><td>1740</td><td>42.110358</td></tr><tr><td>12</td><td>&quot;December&quot;</td><td>&quot;City Hotel&quot;</td><td>&quot;No&quot;</td><td>2392</td><td>57.889642</td></tr><tr><td>12</td><td>&quot;December&quot;</td><td>&quot;Resort Hotel&quot;</td><td>&quot;Si&quot;</td><td>631</td><td>23.829305</td></tr><tr><td>12</td><td>&quot;December&quot;</td><td>&quot;Resort Hotel&quot;</td><td>&quot;No&quot;</td><td>2017</td><td>76.170695</td></tr></tbody></table></div>"
      ]
     },
     "execution_count": 30,
     "metadata": {},
     "output_type": "execute_result"
    }
   ],
   "execution_count": 30
  },
  {
   "metadata": {
    "ExecuteTime": {
     "end_time": "2025-05-17T08:13:42.573519Z",
     "start_time": "2025-05-17T08:13:42.515513Z"
    }
   },
   "cell_type": "code",
   "source": [
    "fig = make_subplots(\n",
    "    rows=1, cols=2,\n",
    "    specs=[[{\"type\": \"sunburst\"}, {\"type\": \"sunburst\"}]],\n",
    "    subplot_titles=(\"Hotel Resort\", \"Hotel Urbano\")\n",
    ")\n",
    "for hotel_type, coord in [(\"Resort Hotel\", {\"row\": 1, \"col\": 1}), (\"City Hotel\", {\"row\": 1, \"col\": 2})]:\n",
    "    subplot = px.sunburst(\n",
    "        reservas_canceladas_total_por_grupos.filter(pl.col(\"hotel\") == hotel_type).sort(by=\"month\"),\n",
    "        path=['arrival_date_month', \"is_canceled\"], values='percentage', color=\"arrival_date_month\",\n",
    "        color_discrete_sequence=px.colors.qualitative.Light24\n",
    "    )\n",
    "    subplot.update_traces(hovertemplate=\"<b>%{parent}</b><br>Porcentaje: %{value:.2f}% <extra></extra>\")\n",
    "    #print(subplot.data[0][\"hovertemplate\"])\n",
    "    fig.add_trace(subplot.data[0], **coord)\n",
    "fig.update_layout(title_text=\"Taza de cancelación por mes (2015 - 2017)\")\n",
    "fig.show()"
   ],
   "id": "2b43d9ea5f55c790",
   "outputs": [
    {
     "data": {
      "text/html": [
       "<iframe style=\"color-scheme: none;\"\n",
       "    scrolling=\"no\"\n",
       "    width=\"100%\"\n",
       "    height=\"545px\"\n",
       "    src=\"../assets/notebooks/html_2a84a80a-1df6-4865-8759-6f1b1fd39a8a/figure_31.html\"\n",
       "    frameborder=\"0\"\n",
       "    allowfullscreen\n",
       "></iframe>\n"
      ]
     },
     "metadata": {},
     "output_type": "display_data"
    }
   ],
   "execution_count": 31
  },
  {
   "metadata": {},
   "cell_type": "markdown",
   "source": [
    "En los anteriores gráficos la etiqueta \"Sí\" tiene el procentaje de reservas canceladas y \"No\" el porcentaje de reservas completadas. Para cada mes podemos obtener esta información pasando el mouse por encima de algun mes o simplemente haciendo click sobre el mismo. Vemos que para el total de reservas hechas en el Hotel Reort en el mes de Junio, solamente se cancelaron el **33.07%**, mientras que el **66.93%** restante se completaron. En general, parece que las reservas para este tipo de hotel tienen una taza mas pequeña de cancelaciones. Será mejor planear con antelacion el hospedaje en el Hotel Resort y reservar con antelación.\n",
    "\n",
    "Por otra parte, en el Hotel Urbano, para el mes de Junio tenemos una taza de cancelaciones más elevadas, de un **44.69%**. Imagina que no alcanzaste a reservar un lugar en Lisboa para tus próximas vacaciones, en este escenario parece más probable que puedas aprovechar alguna cancelación hecha en el Hotel Urbano, pero que sea más dificil \"cazar\" una para el Hotel Resort.\n",
    "\n",
    "Otro compartamiento interesante que vemos es que en el mes de Enero, donde el Hotel Resort tiene un porcentaje de cancelación mínimo, de hecho es el más bajo de todos con un **14.82%** (¿vacaciones de trabajo en Enero?). Para finalizar y solo por curiosidad, miremos el porcentaje de cancelaciones de reserva por pais de origen.\n",
    "\n"
   ],
   "id": "4ba8270ac6fbc719"
  },
  {
   "metadata": {},
   "cell_type": "markdown",
   "source": "### ¿Los más viajeros ahora no lo son tanto?",
   "id": "10ca7ca663ae9593"
  },
  {
   "metadata": {},
   "cell_type": "markdown",
   "source": [
    "En el siguiente mapa de calor podemos ver la taza de cancelaciones de los diferentes paises que han hecho al menos diez reservas teniendo en cuenta ambos hoteles. La razon para este filtro es que hay muchos paises que tienen solo una reserva cancelada, esto nos daría una taza del 100% de cancelaciones para ese país, lo cual no sería suficientemente significativo.\n",
    "\n",
    "Podemos hacer _zoom in_ / _zoom out_ para ir apreciando la taza de cancelaciones por continente. Centrandonos en Europa vemos que la taza mas grande de cancelaciones la tiene Portugal. En un principio pensabamos que eran los que mas viajaban, pero al parecer son tambien los que más cancelan reservas. Por otra parte, en el continente Americano, los paises que menos cancelan reservas de alojamiento a Lisboa son México con el **11.76%** y Perú con el **20.79%**."
   ],
   "id": "e14e40104b513426"
  },
  {
   "metadata": {
    "ExecuteTime": {
     "end_time": "2025-05-17T08:13:42.592585Z",
     "start_time": "2025-05-17T08:13:42.582223Z"
    }
   },
   "cell_type": "code",
   "source": [
    "reservas_total_pais = (\n",
    "    reservas_canceladas\n",
    "    .select(\"country\", \"is_canceled\", \"hotel\")\n",
    "    .group_by([\"country\"])\n",
    "    .agg(pl.col(\"hotel\").count().alias(\"count_bookings\"))\n",
    ")\n",
    "reservas_canceladas_por_pais = (\n",
    "    reservas_canceladas\n",
    "    .select(\"country\", \"is_canceled\", \"hotel\")\n",
    "    .filter(pl.col(\"is_canceled\") == \"Si\")\n",
    "    .group_by([\"country\"])\n",
    "    .agg(pl.col(\"hotel\").count().alias(\"count_cancels\"))\n",
    ").join(\n",
    "    reservas_total_pais, on=[\"country\"]\n",
    ").with_columns(\n",
    "    percentage=((pl.col(\"count_cancels\") / pl.col(\"count_bookings\")) * 100).round(2)\n",
    ").filter(pl.col(\"count_bookings\") > 10)\n",
    "reservas_canceladas_por_pais"
   ],
   "id": "4dc0c4d201630968",
   "outputs": [
    {
     "data": {
      "text/plain": [
       "shape: (93, 4)\n",
       "┌─────────┬───────────────┬────────────────┬────────────┐\n",
       "│ country ┆ count_cancels ┆ count_bookings ┆ percentage │\n",
       "│ ---     ┆ ---           ┆ ---            ┆ ---        │\n",
       "│ str     ┆ u32           ┆ u32            ┆ f64        │\n",
       "╞═════════╪═══════════════╪════════════════╪════════════╡\n",
       "│ BEL     ┆ 474           ┆ 2342           ┆ 20.24      │\n",
       "│ ISR     ┆ 169           ┆ 669            ┆ 25.26      │\n",
       "│ POL     ┆ 215           ┆ 919            ┆ 23.39      │\n",
       "│ FRA     ┆ 1934          ┆ 10415          ┆ 18.57      │\n",
       "│ GBR     ┆ 2453          ┆ 12129          ┆ 20.22      │\n",
       "│ …       ┆ …             ┆ …              ┆ …          │\n",
       "│ CZE     ┆ 37            ┆ 171            ┆ 21.64      │\n",
       "│ ESP     ┆ 2177          ┆ 8568           ┆ 25.41      │\n",
       "│ ITA     ┆ 1333          ┆ 3766           ┆ 35.4       │\n",
       "│ HKG     ┆ 26            ┆ 29             ┆ 89.66      │\n",
       "│ UKR     ┆ 20            ┆ 68             ┆ 29.41      │\n",
       "└─────────┴───────────────┴────────────────┴────────────┘"
      ],
      "text/html": [
       "<div><style>\n",
       ".dataframe > thead > tr,\n",
       ".dataframe > tbody > tr {\n",
       "  text-align: right;\n",
       "  white-space: pre-wrap;\n",
       "}\n",
       "</style>\n",
       "<small>shape: (93, 4)</small><table border=\"1\" class=\"dataframe\"><thead><tr><th>country</th><th>count_cancels</th><th>count_bookings</th><th>percentage</th></tr><tr><td>str</td><td>u32</td><td>u32</td><td>f64</td></tr></thead><tbody><tr><td>&quot;BEL&quot;</td><td>474</td><td>2342</td><td>20.24</td></tr><tr><td>&quot;ISR&quot;</td><td>169</td><td>669</td><td>25.26</td></tr><tr><td>&quot;POL&quot;</td><td>215</td><td>919</td><td>23.39</td></tr><tr><td>&quot;FRA&quot;</td><td>1934</td><td>10415</td><td>18.57</td></tr><tr><td>&quot;GBR&quot;</td><td>2453</td><td>12129</td><td>20.22</td></tr><tr><td>&hellip;</td><td>&hellip;</td><td>&hellip;</td><td>&hellip;</td></tr><tr><td>&quot;CZE&quot;</td><td>37</td><td>171</td><td>21.64</td></tr><tr><td>&quot;ESP&quot;</td><td>2177</td><td>8568</td><td>25.41</td></tr><tr><td>&quot;ITA&quot;</td><td>1333</td><td>3766</td><td>35.4</td></tr><tr><td>&quot;HKG&quot;</td><td>26</td><td>29</td><td>89.66</td></tr><tr><td>&quot;UKR&quot;</td><td>20</td><td>68</td><td>29.41</td></tr></tbody></table></div>"
      ]
     },
     "execution_count": 32,
     "metadata": {},
     "output_type": "execute_result"
    }
   ],
   "execution_count": 32
  },
  {
   "metadata": {
    "ExecuteTime": {
     "end_time": "2025-05-17T08:13:42.618593Z",
     "start_time": "2025-05-17T08:13:42.600512Z"
    }
   },
   "cell_type": "code",
   "source": [
    "fig = px.choropleth(reservas_canceladas_por_pais, locations=\"country\",\n",
    "                    color=\"percentage\", # lifeExp is a column of gapminder\n",
    "                    color_continuous_scale=px.colors.sequential.Oranges,\n",
    "                    labels={\"percentage\": \"Porcentaje de cancelación\"},\n",
    "                    title=\"Porcentaje de cancelación de reservas (2015 - 2017)\")\n",
    "fig.update_traces(hovertemplate=\"<b>%{location}<br>Cancelacion: %{z:.}%</b>\")\n",
    "# print(fig.data[0][\"hovertemplate\"])\n",
    "# print()\n",
    "fig.show()"
   ],
   "id": "5e946207d69ae65b",
   "outputs": [
    {
     "data": {
      "text/html": [
       "<iframe style=\"color-scheme: none;\"\n",
       "    scrolling=\"no\"\n",
       "    width=\"100%\"\n",
       "    height=\"545px\"\n",
       "    src=\"../assets/notebooks/html_2a84a80a-1df6-4865-8759-6f1b1fd39a8a/figure_33.html\"\n",
       "    frameborder=\"0\"\n",
       "    allowfullscreen\n",
       "></iframe>\n"
      ]
     },
     "metadata": {},
     "output_type": "display_data"
    }
   ],
   "execution_count": 33
  },
  {
   "metadata": {},
   "cell_type": "markdown",
   "source": "## Conclusiones",
   "id": "42c0e3313f780161"
  },
  {
   "metadata": {},
   "cell_type": "markdown",
   "source": [
    "Algunas conclusiones (un poco a la ligera), que podemos sacar luego de este _data storytelling_ son:\n",
    "\n",
    "* Junio y Septiembre ofrecen una buena relación entre clima y número de turistas.\n",
    "* Es muy dificil poder reservar alojamiento en el Hotel Resort a última hora, por lo que es mejor hacer este proceso con antelación.\n",
    "* Portugal es el país de donde vienen los turistas que más viajan a Lisboa, pero también de donde más cancelan reservas (En Europa).\n",
    "* Es más fácil reservar a última hora en el Hotel Urbano.\n",
    "* Los Británicos prefieren el Hotel Resort, mientras que el resto de países vecinos prefieren el Hotel Urbano.\n"
   ],
   "id": "eee68cd65e5f1233"
  },
  {
   "metadata": {},
   "cell_type": "markdown",
   "source": [
    "Muchas gracías por llegar hasta el final de este ejercicio. El código completo de este artículo lo puedes ver en [este notebook](https://github.com/CarMoreno/carmoreno.github.io/blob/dataviz-test/_notebooks/2025-05-11-Data-storytelling-datos-hotel-ploty-python.ipynb).\n",
    "\n",
    "{% highlight python %}print(\"Hasta pronto\"){% endhighlight %}"
   ],
   "id": "9a22908a6e7e0b26"
  }
 ],
 "metadata": {
  "colab": {
   "provenance": []
  },
  "kernelspec": {
   "display_name": "Python 3 (ipykernel)",
   "language": "python",
   "name": "python3"
  },
  "language_info": {
   "codemirror_mode": {
    "name": "ipython",
    "version": 3
   },
   "file_extension": ".py",
   "mimetype": "text/x-python",
   "name": "python",
   "nbconvert_exporter": "python",
   "pygments_lexer": "ipython3",
   "version": "3.12.2"
  }
 },
 "nbformat": 4,
 "nbformat_minor": 5
}
